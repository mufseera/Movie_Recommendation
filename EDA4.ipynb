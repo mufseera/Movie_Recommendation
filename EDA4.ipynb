{
 "cells": [
  {
   "cell_type": "code",
   "execution_count": 53,
   "id": "d06e63ec",
   "metadata": {},
   "outputs": [],
   "source": [
    "import pandas as pd\n",
    "import numpy as np\n",
    "import requests\n",
    "import bs4 as bs\n",
    "import urllib.request\n",
    "import json\n",
    "import requests\n",
    "from tmdbv3api import TMDb\n",
    "from tmdbv3api import Movie\n",
    "import warnings\n",
    "warnings.filterwarnings(\"ignore\")"
   ]
  },
  {
   "cell_type": "markdown",
   "id": "f83cf76d",
   "metadata": {},
   "source": [
    "## Extracting features of 2020 movies from Wikipedia"
   ]
  },
  {
   "cell_type": "code",
   "execution_count": 4,
   "id": "2315e941",
   "metadata": {},
   "outputs": [],
   "source": [
    "link = \"https://en.wikipedia.org/wiki/List_of_American_films_of_2020\""
   ]
  },
  {
   "cell_type": "code",
   "execution_count": 5,
   "id": "707d0261",
   "metadata": {},
   "outputs": [],
   "source": [
    "source=urllib.request.urlopen(link).read()"
   ]
  },
  {
   "cell_type": "code",
   "execution_count": 8,
   "id": "f4b1df8c",
   "metadata": {},
   "outputs": [],
   "source": [
    "soup=bs.BeautifulSoup(source,\"lxml\")"
   ]
  },
  {
   "cell_type": "code",
   "execution_count": 13,
   "id": "7e48b42a",
   "metadata": {},
   "outputs": [],
   "source": [
    "tables=soup.find_all(\"table\",class_=\"wikitable sortable\")"
   ]
  },
  {
   "cell_type": "code",
   "execution_count": 15,
   "id": "1c6b4293",
   "metadata": {},
   "outputs": [
    {
     "data": {
      "text/plain": [
       "4"
      ]
     },
     "execution_count": 15,
     "metadata": {},
     "output_type": "execute_result"
    }
   ],
   "source": [
    "len(tables)"
   ]
  },
  {
   "cell_type": "code",
   "execution_count": 17,
   "id": "01235639",
   "metadata": {},
   "outputs": [
    {
     "data": {
      "text/plain": [
       "bs4.element.Tag"
      ]
     },
     "execution_count": 17,
     "metadata": {},
     "output_type": "execute_result"
    }
   ],
   "source": [
    "type(tables[0])"
   ]
  },
  {
   "cell_type": "code",
   "execution_count": 18,
   "id": "cf39f474",
   "metadata": {},
   "outputs": [
    {
     "data": {
      "text/plain": [
       "bs4.element.Tag"
      ]
     },
     "execution_count": 18,
     "metadata": {},
     "output_type": "execute_result"
    }
   ],
   "source": [
    "type(tables[1])"
   ]
  },
  {
   "cell_type": "code",
   "execution_count": 27,
   "id": "68cff14e",
   "metadata": {},
   "outputs": [],
   "source": [
    "df1=pd.read_html(str(tables[0]))[0]\n",
    "df2=pd.read_html(str(tables[1]))[0]\n",
    "df3=pd.read_html(str(tables[2]))[0]\n",
    "df4=pd.read_html(str(tables[3]))[0]"
   ]
  },
  {
   "cell_type": "code",
   "execution_count": 28,
   "id": "2fc87aab",
   "metadata": {},
   "outputs": [],
   "source": [
    "df=df1.append(df2.append(df3.append(df4,ignore_index=True),ignore_index=True),ignore_index=True)"
   ]
  },
  {
   "cell_type": "code",
   "execution_count": 29,
   "id": "a0d729f1",
   "metadata": {},
   "outputs": [
    {
     "data": {
      "text/html": [
       "<div>\n",
       "<style scoped>\n",
       "    .dataframe tbody tr th:only-of-type {\n",
       "        vertical-align: middle;\n",
       "    }\n",
       "\n",
       "    .dataframe tbody tr th {\n",
       "        vertical-align: top;\n",
       "    }\n",
       "\n",
       "    .dataframe thead th {\n",
       "        text-align: right;\n",
       "    }\n",
       "</style>\n",
       "<table border=\"1\" class=\"dataframe\">\n",
       "  <thead>\n",
       "    <tr style=\"text-align: right;\">\n",
       "      <th></th>\n",
       "      <th>Opening</th>\n",
       "      <th>Opening.1</th>\n",
       "      <th>Title</th>\n",
       "      <th>Production company</th>\n",
       "      <th>Cast and crew</th>\n",
       "      <th>Ref.</th>\n",
       "    </tr>\n",
       "  </thead>\n",
       "  <tbody>\n",
       "    <tr>\n",
       "      <th>0</th>\n",
       "      <td>JANUARY</td>\n",
       "      <td>3</td>\n",
       "      <td>The Grudge</td>\n",
       "      <td>Screen Gems / Stage 6 Films / Ghost House Pict...</td>\n",
       "      <td>Nicolas Pesce (director/screenplay); Andrea Ri...</td>\n",
       "      <td>[2]</td>\n",
       "    </tr>\n",
       "    <tr>\n",
       "      <th>1</th>\n",
       "      <td>JANUARY</td>\n",
       "      <td>10</td>\n",
       "      <td>Underwater</td>\n",
       "      <td>20th Century Fox / TSG Entertainment / Chernin...</td>\n",
       "      <td>William Eubank (director); Brian Duffield, Ada...</td>\n",
       "      <td>[3]</td>\n",
       "    </tr>\n",
       "    <tr>\n",
       "      <th>2</th>\n",
       "      <td>JANUARY</td>\n",
       "      <td>10</td>\n",
       "      <td>Like a Boss</td>\n",
       "      <td>Paramount Pictures</td>\n",
       "      <td>Miguel Arteta (director); Sam Pitman, Adam Col...</td>\n",
       "      <td>[4]</td>\n",
       "    </tr>\n",
       "    <tr>\n",
       "      <th>3</th>\n",
       "      <td>JANUARY</td>\n",
       "      <td>10</td>\n",
       "      <td>Three Christs</td>\n",
       "      <td>IFC Films</td>\n",
       "      <td>Jon Avnet (director/screenplay); Eric Nazarian...</td>\n",
       "      <td>NaN</td>\n",
       "    </tr>\n",
       "    <tr>\n",
       "      <th>4</th>\n",
       "      <td>JANUARY</td>\n",
       "      <td>10</td>\n",
       "      <td>Inherit the Viper</td>\n",
       "      <td>Barry Films / Tycor International Film Company</td>\n",
       "      <td>Anthony Jerjen (director); Andrew Crabtree (sc...</td>\n",
       "      <td>[5]</td>\n",
       "    </tr>\n",
       "  </tbody>\n",
       "</table>\n",
       "</div>"
      ],
      "text/plain": [
       "   Opening  Opening.1              Title  \\\n",
       "0  JANUARY          3         The Grudge   \n",
       "1  JANUARY         10         Underwater   \n",
       "2  JANUARY         10        Like a Boss   \n",
       "3  JANUARY         10      Three Christs   \n",
       "4  JANUARY         10  Inherit the Viper   \n",
       "\n",
       "                                  Production company  \\\n",
       "0  Screen Gems / Stage 6 Films / Ghost House Pict...   \n",
       "1  20th Century Fox / TSG Entertainment / Chernin...   \n",
       "2                                 Paramount Pictures   \n",
       "3                                          IFC Films   \n",
       "4     Barry Films / Tycor International Film Company   \n",
       "\n",
       "                                       Cast and crew Ref.  \n",
       "0  Nicolas Pesce (director/screenplay); Andrea Ri...  [2]  \n",
       "1  William Eubank (director); Brian Duffield, Ada...  [3]  \n",
       "2  Miguel Arteta (director); Sam Pitman, Adam Col...  [4]  \n",
       "3  Jon Avnet (director/screenplay); Eric Nazarian...  NaN  \n",
       "4  Anthony Jerjen (director); Andrew Crabtree (sc...  [5]  "
      ]
     },
     "execution_count": 29,
     "metadata": {},
     "output_type": "execute_result"
    }
   ],
   "source": [
    "df.head()"
   ]
  },
  {
   "cell_type": "code",
   "execution_count": 30,
   "id": "bde32fda",
   "metadata": {},
   "outputs": [],
   "source": [
    "df_2020=df[[\"Title\",\"Cast and crew\"]]"
   ]
  },
  {
   "cell_type": "code",
   "execution_count": 31,
   "id": "7a2bd7c4",
   "metadata": {},
   "outputs": [
    {
     "data": {
      "text/html": [
       "<div>\n",
       "<style scoped>\n",
       "    .dataframe tbody tr th:only-of-type {\n",
       "        vertical-align: middle;\n",
       "    }\n",
       "\n",
       "    .dataframe tbody tr th {\n",
       "        vertical-align: top;\n",
       "    }\n",
       "\n",
       "    .dataframe thead th {\n",
       "        text-align: right;\n",
       "    }\n",
       "</style>\n",
       "<table border=\"1\" class=\"dataframe\">\n",
       "  <thead>\n",
       "    <tr style=\"text-align: right;\">\n",
       "      <th></th>\n",
       "      <th>Title</th>\n",
       "      <th>Cast and crew</th>\n",
       "    </tr>\n",
       "  </thead>\n",
       "  <tbody>\n",
       "    <tr>\n",
       "      <th>0</th>\n",
       "      <td>The Grudge</td>\n",
       "      <td>Nicolas Pesce (director/screenplay); Andrea Ri...</td>\n",
       "    </tr>\n",
       "    <tr>\n",
       "      <th>1</th>\n",
       "      <td>Underwater</td>\n",
       "      <td>William Eubank (director); Brian Duffield, Ada...</td>\n",
       "    </tr>\n",
       "  </tbody>\n",
       "</table>\n",
       "</div>"
      ],
      "text/plain": [
       "        Title                                      Cast and crew\n",
       "0  The Grudge  Nicolas Pesce (director/screenplay); Andrea Ri...\n",
       "1  Underwater  William Eubank (director); Brian Duffield, Ada..."
      ]
     },
     "execution_count": 31,
     "metadata": {},
     "output_type": "execute_result"
    }
   ],
   "source": [
    "df_2020.head(2)"
   ]
  },
  {
   "cell_type": "code",
   "execution_count": 33,
   "id": "8c6b60d3",
   "metadata": {},
   "outputs": [],
   "source": [
    "tmdb=TMDb()\n",
    "tmdb.api_key=\"3cd610e5da6dcc2d11cb264184e57edb\""
   ]
  },
  {
   "cell_type": "code",
   "execution_count": 50,
   "id": "9c0daa49",
   "metadata": {},
   "outputs": [],
   "source": [
    "tmdb_movie=Movie()\n",
    "def get_genres(x):\n",
    "    gen=[]\n",
    "    result=tmdb_movie.search(x)\n",
    "    if not result:\n",
    "        return np.NaN\n",
    "    else:\n",
    "        movie_id=result[0].id\n",
    "        response=requests.get(\"https://api.themoviedb.org/3/movie/{}?api_key={}\".format(movie_id,tmdb.api_key))\n",
    "        data_json=response.json()\n",
    "    if data_json[\"genres\"]:\n",
    "        genre_str=\" \"\n",
    "        for i in range(0,len(data_json[\"genres\"])):\n",
    "            gen.append(data_json[\"genres\"][i][\"name\"])\n",
    "        return genre_str.join(gen)\n",
    "    else:\n",
    "        return np.NaN\n",
    "    "
   ]
  },
  {
   "cell_type": "code",
   "execution_count": 54,
   "id": "0781840f",
   "metadata": {},
   "outputs": [],
   "source": [
    "df_2020[\"genres\"]=df_2020[\"Title\"].map(lambda x:get_genres(x))"
   ]
  },
  {
   "cell_type": "code",
   "execution_count": 55,
   "id": "e3617921",
   "metadata": {},
   "outputs": [
    {
     "data": {
      "text/html": [
       "<div>\n",
       "<style scoped>\n",
       "    .dataframe tbody tr th:only-of-type {\n",
       "        vertical-align: middle;\n",
       "    }\n",
       "\n",
       "    .dataframe tbody tr th {\n",
       "        vertical-align: top;\n",
       "    }\n",
       "\n",
       "    .dataframe thead th {\n",
       "        text-align: right;\n",
       "    }\n",
       "</style>\n",
       "<table border=\"1\" class=\"dataframe\">\n",
       "  <thead>\n",
       "    <tr style=\"text-align: right;\">\n",
       "      <th></th>\n",
       "      <th>Title</th>\n",
       "      <th>Cast and crew</th>\n",
       "      <th>genres</th>\n",
       "    </tr>\n",
       "  </thead>\n",
       "  <tbody>\n",
       "    <tr>\n",
       "      <th>0</th>\n",
       "      <td>The Grudge</td>\n",
       "      <td>Nicolas Pesce (director/screenplay); Andrea Ri...</td>\n",
       "      <td>Horror Mystery Thriller</td>\n",
       "    </tr>\n",
       "    <tr>\n",
       "      <th>1</th>\n",
       "      <td>Underwater</td>\n",
       "      <td>William Eubank (director); Brian Duffield, Ada...</td>\n",
       "      <td>Action Horror Science Fiction Thriller</td>\n",
       "    </tr>\n",
       "    <tr>\n",
       "      <th>2</th>\n",
       "      <td>Like a Boss</td>\n",
       "      <td>Miguel Arteta (director); Sam Pitman, Adam Col...</td>\n",
       "      <td>Comedy</td>\n",
       "    </tr>\n",
       "    <tr>\n",
       "      <th>3</th>\n",
       "      <td>Three Christs</td>\n",
       "      <td>Jon Avnet (director/screenplay); Eric Nazarian...</td>\n",
       "      <td>Drama</td>\n",
       "    </tr>\n",
       "    <tr>\n",
       "      <th>4</th>\n",
       "      <td>Inherit the Viper</td>\n",
       "      <td>Anthony Jerjen (director); Andrew Crabtree (sc...</td>\n",
       "      <td>Drama Thriller Crime</td>\n",
       "    </tr>\n",
       "  </tbody>\n",
       "</table>\n",
       "</div>"
      ],
      "text/plain": [
       "               Title                                      Cast and crew  \\\n",
       "0         The Grudge  Nicolas Pesce (director/screenplay); Andrea Ri...   \n",
       "1         Underwater  William Eubank (director); Brian Duffield, Ada...   \n",
       "2        Like a Boss  Miguel Arteta (director); Sam Pitman, Adam Col...   \n",
       "3      Three Christs  Jon Avnet (director/screenplay); Eric Nazarian...   \n",
       "4  Inherit the Viper  Anthony Jerjen (director); Andrew Crabtree (sc...   \n",
       "\n",
       "                                   genres  \n",
       "0                 Horror Mystery Thriller  \n",
       "1  Action Horror Science Fiction Thriller  \n",
       "2                                  Comedy  \n",
       "3                                   Drama  \n",
       "4                    Drama Thriller Crime  "
      ]
     },
     "execution_count": 55,
     "metadata": {},
     "output_type": "execute_result"
    }
   ],
   "source": [
    "df_2020.head()"
   ]
  },
  {
   "cell_type": "code",
   "execution_count": 58,
   "id": "06be70a9",
   "metadata": {},
   "outputs": [
    {
     "data": {
      "text/plain": [
       "'William Eubank (director); Brian Duffield, Adam Cozad (screenplay); Kristen Stewart, Vincent Cassel, Jessica Henwick, John Gallagher Jr., Mamoudou Athie, T.J. Miller'"
      ]
     },
     "execution_count": 58,
     "metadata": {},
     "output_type": "execute_result"
    }
   ],
   "source": [
    "df_2020[\"Cast and crew\"][1]"
   ]
  },
  {
   "cell_type": "code",
   "execution_count": 56,
   "id": "cdbd9495",
   "metadata": {},
   "outputs": [],
   "source": [
    "def get_director(x):\n",
    "    if \"(director)\" in x:\n",
    "        return x.split(\"(director)\")[0]\n",
    "    elif \"(directors)\" in x:\n",
    "        return x.split(\"(directors)\")[0]\n",
    "    else:\n",
    "        return x.split(\"(director/screenplay)\")[0]"
   ]
  },
  {
   "cell_type": "code",
   "execution_count": 59,
   "id": "ddfafe41",
   "metadata": {},
   "outputs": [],
   "source": [
    "def get_actor1(x):\n",
    "    if \"(director/screenplay);\" in x:\n",
    "        return x.split(\"(director/screenplay);\")[-1].split(\",\")[0]\n",
    "    else:\n",
    "        return x.split(\"(screenplay);\")[-1].split(\",\")[0]\n",
    "    "
   ]
  },
  {
   "cell_type": "code",
   "execution_count": 79,
   "id": "b2a6d329",
   "metadata": {},
   "outputs": [],
   "source": [
    "def get_actor2(x):\n",
    "    if \"(director/screenplay);\" in x:\n",
    "        if len(x.split(\"(director/screenplay);\")[-1].split(\",\"))>1:\n",
    "            return x.split(\"(director/screenplay);\")[-1].split(\",\")[1]\n",
    "        else:\n",
    "            return np.NaN\n",
    "    else:\n",
    "        if len(x.split(\"(screenplay);\")[-1].split(\",\"))>1:\n",
    "            return x.split(\"(screenplay);\")[-1].split(\",\")[1]\n",
    "        else:\n",
    "            return np.NaN    "
   ]
  },
  {
   "cell_type": "code",
   "execution_count": 80,
   "id": "b39d8761",
   "metadata": {},
   "outputs": [],
   "source": [
    "def get_actor3(x):\n",
    "    if \"(director/screenplay);\" in x:\n",
    "        if len(x.split(\"(director/screenplay);\")[-1].split(\",\"))>2:\n",
    "            return x.split(\"(director/screenplay);\")[-1].split(\",\")[2]\n",
    "        else:\n",
    "            return np.NaN\n",
    "    else:\n",
    "        if len(x.split(\"(screenplay);\")[-1].split(\",\"))>2:\n",
    "            return x.split(\"(screenplay);\")[-1].split(\",\")[2]\n",
    "        else:\n",
    "            return np.NaN"
   ]
  },
  {
   "cell_type": "code",
   "execution_count": 81,
   "id": "00da8a2d",
   "metadata": {},
   "outputs": [],
   "source": [
    "df_2020[\"actor_1_name\"]=df_2020[\"Cast and crew\"].map(lambda x: get_actor1(x))"
   ]
  },
  {
   "cell_type": "code",
   "execution_count": 82,
   "id": "f172a53d",
   "metadata": {},
   "outputs": [],
   "source": [
    "df_2020[\"actor_2_name\"]=df_2020[\"Cast and crew\"].map(lambda x: get_actor2(str(x)))"
   ]
  },
  {
   "cell_type": "code",
   "execution_count": 83,
   "id": "95a1a9e6",
   "metadata": {},
   "outputs": [],
   "source": [
    "df_2020[\"actor_3_name\"]=df_2020[\"Cast and crew\"].map(lambda x: get_actor3(str(x)))"
   ]
  },
  {
   "cell_type": "code",
   "execution_count": 84,
   "id": "f28356ae",
   "metadata": {},
   "outputs": [],
   "source": [
    "df_2020[\"director_name\"]=df_2020[\"Cast and crew\"].map(lambda x:get_director(x))"
   ]
  },
  {
   "cell_type": "code",
   "execution_count": 85,
   "id": "e2df3580",
   "metadata": {},
   "outputs": [
    {
     "data": {
      "text/html": [
       "<div>\n",
       "<style scoped>\n",
       "    .dataframe tbody tr th:only-of-type {\n",
       "        vertical-align: middle;\n",
       "    }\n",
       "\n",
       "    .dataframe tbody tr th {\n",
       "        vertical-align: top;\n",
       "    }\n",
       "\n",
       "    .dataframe thead th {\n",
       "        text-align: right;\n",
       "    }\n",
       "</style>\n",
       "<table border=\"1\" class=\"dataframe\">\n",
       "  <thead>\n",
       "    <tr style=\"text-align: right;\">\n",
       "      <th></th>\n",
       "      <th>Title</th>\n",
       "      <th>Cast and crew</th>\n",
       "      <th>genres</th>\n",
       "      <th>actor_1_name</th>\n",
       "      <th>actor_3_name</th>\n",
       "      <th>actor_2_name</th>\n",
       "      <th>director_name</th>\n",
       "    </tr>\n",
       "  </thead>\n",
       "  <tbody>\n",
       "    <tr>\n",
       "      <th>0</th>\n",
       "      <td>The Grudge</td>\n",
       "      <td>Nicolas Pesce (director/screenplay); Andrea Ri...</td>\n",
       "      <td>Horror Mystery Thriller</td>\n",
       "      <td>Andrea Riseborough</td>\n",
       "      <td>John Cho</td>\n",
       "      <td>Demián Bichir</td>\n",
       "      <td>Nicolas Pesce</td>\n",
       "    </tr>\n",
       "    <tr>\n",
       "      <th>1</th>\n",
       "      <td>Underwater</td>\n",
       "      <td>William Eubank (director); Brian Duffield, Ada...</td>\n",
       "      <td>Action Horror Science Fiction Thriller</td>\n",
       "      <td>Kristen Stewart</td>\n",
       "      <td>Jessica Henwick</td>\n",
       "      <td>Vincent Cassel</td>\n",
       "      <td>William Eubank</td>\n",
       "    </tr>\n",
       "    <tr>\n",
       "      <th>2</th>\n",
       "      <td>Like a Boss</td>\n",
       "      <td>Miguel Arteta (director); Sam Pitman, Adam Col...</td>\n",
       "      <td>Comedy</td>\n",
       "      <td>Tiffany Haddish</td>\n",
       "      <td>Salma Hayek</td>\n",
       "      <td>Rose Byrne</td>\n",
       "      <td>Miguel Arteta</td>\n",
       "    </tr>\n",
       "    <tr>\n",
       "      <th>3</th>\n",
       "      <td>Three Christs</td>\n",
       "      <td>Jon Avnet (director/screenplay); Eric Nazarian...</td>\n",
       "      <td>Drama</td>\n",
       "      <td>Eric Nazarian (screenplay); Richard Gere</td>\n",
       "      <td>Walton Goggins</td>\n",
       "      <td>Peter Dinklage</td>\n",
       "      <td>Jon Avnet</td>\n",
       "    </tr>\n",
       "    <tr>\n",
       "      <th>4</th>\n",
       "      <td>Inherit the Viper</td>\n",
       "      <td>Anthony Jerjen (director); Andrew Crabtree (sc...</td>\n",
       "      <td>Drama Thriller Crime</td>\n",
       "      <td>Josh Hartnett</td>\n",
       "      <td>Chandler Riggs</td>\n",
       "      <td>Margarita Levieva</td>\n",
       "      <td>Anthony Jerjen</td>\n",
       "    </tr>\n",
       "  </tbody>\n",
       "</table>\n",
       "</div>"
      ],
      "text/plain": [
       "               Title                                      Cast and crew  \\\n",
       "0         The Grudge  Nicolas Pesce (director/screenplay); Andrea Ri...   \n",
       "1         Underwater  William Eubank (director); Brian Duffield, Ada...   \n",
       "2        Like a Boss  Miguel Arteta (director); Sam Pitman, Adam Col...   \n",
       "3      Three Christs  Jon Avnet (director/screenplay); Eric Nazarian...   \n",
       "4  Inherit the Viper  Anthony Jerjen (director); Andrew Crabtree (sc...   \n",
       "\n",
       "                                   genres  \\\n",
       "0                 Horror Mystery Thriller   \n",
       "1  Action Horror Science Fiction Thriller   \n",
       "2                                  Comedy   \n",
       "3                                   Drama   \n",
       "4                    Drama Thriller Crime   \n",
       "\n",
       "                                actor_1_name      actor_3_name  \\\n",
       "0                         Andrea Riseborough          John Cho   \n",
       "1                            Kristen Stewart   Jessica Henwick   \n",
       "2                            Tiffany Haddish       Salma Hayek   \n",
       "3   Eric Nazarian (screenplay); Richard Gere    Walton Goggins   \n",
       "4                              Josh Hartnett    Chandler Riggs   \n",
       "\n",
       "         actor_2_name    director_name  \n",
       "0       Demián Bichir   Nicolas Pesce   \n",
       "1      Vincent Cassel  William Eubank   \n",
       "2          Rose Byrne   Miguel Arteta   \n",
       "3      Peter Dinklage       Jon Avnet   \n",
       "4   Margarita Levieva  Anthony Jerjen   "
      ]
     },
     "execution_count": 85,
     "metadata": {},
     "output_type": "execute_result"
    }
   ],
   "source": [
    "df_2020.head()"
   ]
  },
  {
   "cell_type": "code",
   "execution_count": 86,
   "id": "fbf7dcaf",
   "metadata": {},
   "outputs": [],
   "source": [
    "df_2020=df_2020.rename(columns={\"Title\":\"movie_title\"})"
   ]
  },
  {
   "cell_type": "code",
   "execution_count": 87,
   "id": "0ca80236",
   "metadata": {},
   "outputs": [],
   "source": [
    "df_2020[\"movie_title\"]=df_2020[\"movie_title\"].str.lower()"
   ]
  },
  {
   "cell_type": "code",
   "execution_count": 90,
   "id": "ab7971dd",
   "metadata": {},
   "outputs": [],
   "source": [
    "new_df20 = df_2020.loc[:,['director_name','actor_1_name','actor_2_name','actor_3_name','genres','movie_title']]"
   ]
  },
  {
   "cell_type": "code",
   "execution_count": 91,
   "id": "6093722e",
   "metadata": {},
   "outputs": [],
   "source": [
    "new_df20['comb'] = new_df20['actor_1_name'] + ' ' + new_df20['actor_2_name'] + ' '+ new_df20['actor_3_name'] \\\n",
    "                   + ' '+ new_df20['director_name'] +' ' + new_df20['genres']"
   ]
  },
  {
   "cell_type": "code",
   "execution_count": 92,
   "id": "1d00c634",
   "metadata": {},
   "outputs": [
    {
     "data": {
      "text/plain": [
       "director_name     0\n",
       "actor_1_name      0\n",
       "actor_2_name      4\n",
       "actor_3_name     27\n",
       "genres            2\n",
       "movie_title       0\n",
       "comb             29\n",
       "dtype: int64"
      ]
     },
     "execution_count": 92,
     "metadata": {},
     "output_type": "execute_result"
    }
   ],
   "source": [
    "new_df20.isna().sum()"
   ]
  },
  {
   "cell_type": "code",
   "execution_count": 96,
   "id": "1d153169",
   "metadata": {},
   "outputs": [],
   "source": [
    "new_df20.dropna(inplace=True)"
   ]
  },
  {
   "cell_type": "code",
   "execution_count": 97,
   "id": "cac9a079",
   "metadata": {},
   "outputs": [],
   "source": [
    "old_df=pd.read_csv(\"final_data.csv\")"
   ]
  },
  {
   "cell_type": "code",
   "execution_count": 98,
   "id": "9e546160",
   "metadata": {},
   "outputs": [],
   "source": [
    "final_df=old_df.append(new_df20,ignore_index=True)"
   ]
  },
  {
   "cell_type": "code",
   "execution_count": 100,
   "id": "804b8efe",
   "metadata": {},
   "outputs": [],
   "source": [
    "final_df.to_csv(\"main_data.csv\",index=False)"
   ]
  },
  {
   "cell_type": "code",
   "execution_count": 101,
   "id": "e4513a49",
   "metadata": {},
   "outputs": [
    {
     "data": {
      "text/html": [
       "<div>\n",
       "<style scoped>\n",
       "    .dataframe tbody tr th:only-of-type {\n",
       "        vertical-align: middle;\n",
       "    }\n",
       "\n",
       "    .dataframe tbody tr th {\n",
       "        vertical-align: top;\n",
       "    }\n",
       "\n",
       "    .dataframe thead th {\n",
       "        text-align: right;\n",
       "    }\n",
       "</style>\n",
       "<table border=\"1\" class=\"dataframe\">\n",
       "  <thead>\n",
       "    <tr style=\"text-align: right;\">\n",
       "      <th></th>\n",
       "      <th>Unnamed: 0</th>\n",
       "      <th>director_name</th>\n",
       "      <th>actor_1_name</th>\n",
       "      <th>actor_2_name</th>\n",
       "      <th>actor_3_name</th>\n",
       "      <th>genres</th>\n",
       "      <th>movie_title</th>\n",
       "      <th>comb</th>\n",
       "    </tr>\n",
       "  </thead>\n",
       "  <tbody>\n",
       "    <tr>\n",
       "      <th>0</th>\n",
       "      <td>0.0</td>\n",
       "      <td>James Cameron</td>\n",
       "      <td>CCH Pounder</td>\n",
       "      <td>Joel David Moore</td>\n",
       "      <td>Wes Studi</td>\n",
       "      <td>Action Adventure Fantasy Sci-Fi</td>\n",
       "      <td>avatar</td>\n",
       "      <td>CCH Pounder Joel David Moore Wes Studi James C...</td>\n",
       "    </tr>\n",
       "    <tr>\n",
       "      <th>1</th>\n",
       "      <td>1.0</td>\n",
       "      <td>Gore Verbinski</td>\n",
       "      <td>Johnny Depp</td>\n",
       "      <td>Orlando Bloom</td>\n",
       "      <td>Jack Davenport</td>\n",
       "      <td>Action Adventure Fantasy</td>\n",
       "      <td>pirates of the caribbean: at world's end</td>\n",
       "      <td>Johnny Depp Orlando Bloom Jack Davenport Gore ...</td>\n",
       "    </tr>\n",
       "    <tr>\n",
       "      <th>2</th>\n",
       "      <td>2.0</td>\n",
       "      <td>Sam Mendes</td>\n",
       "      <td>Christoph Waltz</td>\n",
       "      <td>Rory Kinnear</td>\n",
       "      <td>Stephanie Sigman</td>\n",
       "      <td>Action Adventure Thriller</td>\n",
       "      <td>spectre</td>\n",
       "      <td>Christoph Waltz Rory Kinnear Stephanie Sigman ...</td>\n",
       "    </tr>\n",
       "    <tr>\n",
       "      <th>3</th>\n",
       "      <td>3.0</td>\n",
       "      <td>Christopher Nolan</td>\n",
       "      <td>Tom Hardy</td>\n",
       "      <td>Christian Bale</td>\n",
       "      <td>Joseph Gordon-Levitt</td>\n",
       "      <td>Action Thriller</td>\n",
       "      <td>the dark knight rises</td>\n",
       "      <td>Tom Hardy Christian Bale Joseph Gordon-Levitt ...</td>\n",
       "    </tr>\n",
       "    <tr>\n",
       "      <th>4</th>\n",
       "      <td>4.0</td>\n",
       "      <td>Doug Walker</td>\n",
       "      <td>Doug Walker</td>\n",
       "      <td>Rob Walker</td>\n",
       "      <td>unknown</td>\n",
       "      <td>Documentary</td>\n",
       "      <td>star wars: episode vii - the force awakens    ...</td>\n",
       "      <td>Doug Walker Rob Walker unknown Doug Walker Doc...</td>\n",
       "    </tr>\n",
       "  </tbody>\n",
       "</table>\n",
       "</div>"
      ],
      "text/plain": [
       "   Unnamed: 0      director_name     actor_1_name      actor_2_name  \\\n",
       "0         0.0      James Cameron      CCH Pounder  Joel David Moore   \n",
       "1         1.0     Gore Verbinski      Johnny Depp     Orlando Bloom   \n",
       "2         2.0         Sam Mendes  Christoph Waltz      Rory Kinnear   \n",
       "3         3.0  Christopher Nolan        Tom Hardy    Christian Bale   \n",
       "4         4.0        Doug Walker      Doug Walker        Rob Walker   \n",
       "\n",
       "           actor_3_name                           genres  \\\n",
       "0             Wes Studi  Action Adventure Fantasy Sci-Fi   \n",
       "1        Jack Davenport         Action Adventure Fantasy   \n",
       "2      Stephanie Sigman        Action Adventure Thriller   \n",
       "3  Joseph Gordon-Levitt                  Action Thriller   \n",
       "4               unknown                      Documentary   \n",
       "\n",
       "                                         movie_title  \\\n",
       "0                                             avatar   \n",
       "1           pirates of the caribbean: at world's end   \n",
       "2                                            spectre   \n",
       "3                              the dark knight rises   \n",
       "4  star wars: episode vii - the force awakens    ...   \n",
       "\n",
       "                                                comb  \n",
       "0  CCH Pounder Joel David Moore Wes Studi James C...  \n",
       "1  Johnny Depp Orlando Bloom Jack Davenport Gore ...  \n",
       "2  Christoph Waltz Rory Kinnear Stephanie Sigman ...  \n",
       "3  Tom Hardy Christian Bale Joseph Gordon-Levitt ...  \n",
       "4  Doug Walker Rob Walker unknown Doug Walker Doc...  "
      ]
     },
     "execution_count": 101,
     "metadata": {},
     "output_type": "execute_result"
    }
   ],
   "source": [
    "final_df.head()"
   ]
  },
  {
   "cell_type": "code",
   "execution_count": null,
   "id": "3573837b",
   "metadata": {},
   "outputs": [],
   "source": []
  }
 ],
 "metadata": {
  "kernelspec": {
   "display_name": "Python 3",
   "language": "python",
   "name": "python3"
  },
  "language_info": {
   "codemirror_mode": {
    "name": "ipython",
    "version": 3
   },
   "file_extension": ".py",
   "mimetype": "text/x-python",
   "name": "python",
   "nbconvert_exporter": "python",
   "pygments_lexer": "ipython3",
   "version": "3.8.6"
  }
 },
 "nbformat": 4,
 "nbformat_minor": 5
}
