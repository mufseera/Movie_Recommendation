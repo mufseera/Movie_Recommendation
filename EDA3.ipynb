{
 "cells": [
  {
   "cell_type": "code",
   "execution_count": 288,
   "id": "0412d8e1",
   "metadata": {},
   "outputs": [],
   "source": [
    "import pandas as pd\n",
    "import numpy as np\n",
    "import warnings\n",
    "warnings.filterwarnings(\"ignore\")"
   ]
  },
  {
   "cell_type": "code",
   "execution_count": 215,
   "id": "7d1c575d",
   "metadata": {},
   "outputs": [],
   "source": [
    "link=\"https://en.wikipedia.org/wiki/List_of_American_films_of_2018\""
   ]
  },
  {
   "cell_type": "code",
   "execution_count": 216,
   "id": "78133f69",
   "metadata": {},
   "outputs": [],
   "source": [
    "df1 = pd.read_html(link, header=0)[2]\n",
    "df2=pd.read_html(link, header=0)[3]\n",
    "df3=pd.read_html(link,header=0)[4]\n",
    "df4=pd.read_html(link,header=0)[5]"
   ]
  },
  {
   "cell_type": "code",
   "execution_count": 217,
   "id": "58b83f78",
   "metadata": {},
   "outputs": [],
   "source": [
    "df = df1.append(df2.append(df3.append(df4,ignore_index=True),ignore_index=True),ignore_index=True)"
   ]
  },
  {
   "cell_type": "code",
   "execution_count": 218,
   "id": "d746e728",
   "metadata": {},
   "outputs": [],
   "source": [
    "from tmdbv3api import TMDb\n",
    "from tmdbv3api import Movie\n",
    "import requests\n",
    "import json\n",
    "tmdb=TMDb()\n",
    "tmdb_movie=Movie()\n",
    "tmdb.api_key=\"3cd610e5da6dcc2d11cb264184e57edb\""
   ]
  },
  {
   "cell_type": "code",
   "execution_count": 219,
   "id": "674c31ce",
   "metadata": {},
   "outputs": [],
   "source": [
    "from tmdbv3api import Movie\n",
    "tmdb_movie = Movie()\n",
    "def get_genre(x):\n",
    "    genres = []\n",
    "    result = tmdb_movie.search(x)\n",
    "    movie_id = result[0].id\n",
    "    response = requests.get('https://api.themoviedb.org/3/movie/{}?api_key={}'.format(movie_id,tmdb.api_key))\n",
    "    data_json = response.json()\n",
    "    if data_json['genres']:\n",
    "        genre_str = \" \" \n",
    "        for i in range(0,len(data_json['genres'])):\n",
    "            genres.append(data_json['genres'][i]['name'])\n",
    "        return genre_str.join(genres)\n",
    "    else:\n",
    "        pd.NA"
   ]
  },
  {
   "cell_type": "code",
   "execution_count": 220,
   "id": "d0b516e1",
   "metadata": {},
   "outputs": [
    {
     "data": {
      "text/html": [
       "<div>\n",
       "<style scoped>\n",
       "    .dataframe tbody tr th:only-of-type {\n",
       "        vertical-align: middle;\n",
       "    }\n",
       "\n",
       "    .dataframe tbody tr th {\n",
       "        vertical-align: top;\n",
       "    }\n",
       "\n",
       "    .dataframe thead th {\n",
       "        text-align: right;\n",
       "    }\n",
       "</style>\n",
       "<table border=\"1\" class=\"dataframe\">\n",
       "  <thead>\n",
       "    <tr style=\"text-align: right;\">\n",
       "      <th></th>\n",
       "      <th>Opening</th>\n",
       "      <th>Opening.1</th>\n",
       "      <th>Title</th>\n",
       "      <th>Production company</th>\n",
       "      <th>Cast and crew</th>\n",
       "      <th>Ref.</th>\n",
       "    </tr>\n",
       "  </thead>\n",
       "  <tbody>\n",
       "    <tr>\n",
       "      <th>0</th>\n",
       "      <td>JANUARY</td>\n",
       "      <td>5</td>\n",
       "      <td>Insidious: The Last Key</td>\n",
       "      <td>Universal Pictures / Blumhouse Productions / S...</td>\n",
       "      <td>Adam Robitel (director); Leigh Whannell (scree...</td>\n",
       "      <td>[2]</td>\n",
       "    </tr>\n",
       "    <tr>\n",
       "      <th>1</th>\n",
       "      <td>JANUARY</td>\n",
       "      <td>5</td>\n",
       "      <td>The Strange Ones</td>\n",
       "      <td>Vertical Entertainment</td>\n",
       "      <td>Lauren Wolkstein (director); Christopher Radcl...</td>\n",
       "      <td>[3]</td>\n",
       "    </tr>\n",
       "    <tr>\n",
       "      <th>2</th>\n",
       "      <td>JANUARY</td>\n",
       "      <td>5</td>\n",
       "      <td>Stratton</td>\n",
       "      <td>Momentum Pictures</td>\n",
       "      <td>Simon West (director); Duncan Falconer, Warren...</td>\n",
       "      <td>[4]</td>\n",
       "    </tr>\n",
       "  </tbody>\n",
       "</table>\n",
       "</div>"
      ],
      "text/plain": [
       "   Opening  Opening.1                    Title  \\\n",
       "0  JANUARY          5  Insidious: The Last Key   \n",
       "1  JANUARY          5         The Strange Ones   \n",
       "2  JANUARY          5                 Stratton   \n",
       "\n",
       "                                  Production company  \\\n",
       "0  Universal Pictures / Blumhouse Productions / S...   \n",
       "1                             Vertical Entertainment   \n",
       "2                                  Momentum Pictures   \n",
       "\n",
       "                                       Cast and crew Ref.  \n",
       "0  Adam Robitel (director); Leigh Whannell (scree...  [2]  \n",
       "1  Lauren Wolkstein (director); Christopher Radcl...  [3]  \n",
       "2  Simon West (director); Duncan Falconer, Warren...  [4]  "
      ]
     },
     "execution_count": 220,
     "metadata": {},
     "output_type": "execute_result"
    }
   ],
   "source": [
    "df.head(3)"
   ]
  },
  {
   "cell_type": "code",
   "execution_count": 221,
   "id": "0d39a09b",
   "metadata": {},
   "outputs": [
    {
     "data": {
      "text/plain": [
       "Opening               object\n",
       "Opening.1              int64\n",
       "Title                 object\n",
       "Production company    object\n",
       "Cast and crew         object\n",
       "Ref.                  object\n",
       "dtype: object"
      ]
     },
     "execution_count": 221,
     "metadata": {},
     "output_type": "execute_result"
    }
   ],
   "source": [
    "df.dtypes"
   ]
  },
  {
   "cell_type": "code",
   "execution_count": 222,
   "id": "cbc31251",
   "metadata": {},
   "outputs": [],
   "source": [
    "df[\"genres\"]=df[\"Title\"].map(lambda x: get_genre(str(x)))"
   ]
  },
  {
   "cell_type": "code",
   "execution_count": 223,
   "id": "ca93e4b1",
   "metadata": {},
   "outputs": [],
   "source": [
    "df_2018=df[[\"Title\",\"Cast and crew\",\"genres\"]]"
   ]
  },
  {
   "cell_type": "code",
   "execution_count": 224,
   "id": "ce3cf261",
   "metadata": {},
   "outputs": [
    {
     "data": {
      "text/html": [
       "<div>\n",
       "<style scoped>\n",
       "    .dataframe tbody tr th:only-of-type {\n",
       "        vertical-align: middle;\n",
       "    }\n",
       "\n",
       "    .dataframe tbody tr th {\n",
       "        vertical-align: top;\n",
       "    }\n",
       "\n",
       "    .dataframe thead th {\n",
       "        text-align: right;\n",
       "    }\n",
       "</style>\n",
       "<table border=\"1\" class=\"dataframe\">\n",
       "  <thead>\n",
       "    <tr style=\"text-align: right;\">\n",
       "      <th></th>\n",
       "      <th>Title</th>\n",
       "      <th>Cast and crew</th>\n",
       "      <th>genres</th>\n",
       "    </tr>\n",
       "  </thead>\n",
       "  <tbody>\n",
       "    <tr>\n",
       "      <th>0</th>\n",
       "      <td>Insidious: The Last Key</td>\n",
       "      <td>Adam Robitel (director); Leigh Whannell (scree...</td>\n",
       "      <td>Horror Mystery Thriller</td>\n",
       "    </tr>\n",
       "    <tr>\n",
       "      <th>1</th>\n",
       "      <td>The Strange Ones</td>\n",
       "      <td>Lauren Wolkstein (director); Christopher Radcl...</td>\n",
       "      <td>Thriller Drama</td>\n",
       "    </tr>\n",
       "  </tbody>\n",
       "</table>\n",
       "</div>"
      ],
      "text/plain": [
       "                     Title                                      Cast and crew  \\\n",
       "0  Insidious: The Last Key  Adam Robitel (director); Leigh Whannell (scree...   \n",
       "1         The Strange Ones  Lauren Wolkstein (director); Christopher Radcl...   \n",
       "\n",
       "                    genres  \n",
       "0  Horror Mystery Thriller  \n",
       "1           Thriller Drama  "
      ]
     },
     "execution_count": 224,
     "metadata": {},
     "output_type": "execute_result"
    }
   ],
   "source": [
    "df_2018.head(2)"
   ]
  },
  {
   "cell_type": "code",
   "execution_count": 225,
   "id": "7abe4aeb",
   "metadata": {},
   "outputs": [
    {
     "data": {
      "text/plain": [
       "'Matthew Heineman (director); Arash Amel (screenplay); Rosamund Pike, Jamie Dornan, Stanley Tucci, Tom Hollander'"
      ]
     },
     "execution_count": 225,
     "metadata": {},
     "output_type": "execute_result"
    }
   ],
   "source": [
    "df_2018[\"Cast and crew\"][230]"
   ]
  },
  {
   "cell_type": "code",
   "execution_count": 226,
   "id": "c1749a57",
   "metadata": {},
   "outputs": [],
   "source": [
    "def get_director(x):\n",
    "    if \"(director)\" in x:\n",
    "        return x.split(\"(director)\")[0]\n",
    "    elif \"(director/screenplay)\" in x:\n",
    "        return x.split(\"(director/screenplay)\")[0]\n",
    "    else:\n",
    "        return x.split(\"(directors)\")[0]\n",
    "    \n",
    "    "
   ]
  },
  {
   "cell_type": "code",
   "execution_count": 251,
   "id": "49969058",
   "metadata": {},
   "outputs": [],
   "source": [
    "df_2018[\"director_name\"]=df_2018[\"Cast and crew\"].map(lambda x:get_director(x))"
   ]
  },
  {
   "cell_type": "code",
   "execution_count": 237,
   "id": "5f6b7de2",
   "metadata": {},
   "outputs": [
    {
     "data": {
      "text/plain": [
       "' Dominic Cooper'"
      ]
     },
     "execution_count": 237,
     "metadata": {},
     "output_type": "execute_result"
    }
   ],
   "source": [
    "df_2018[\"Cast and crew\"][2].split(\"(screenplay);\")[-1].split(\",\")[0]"
   ]
  },
  {
   "cell_type": "code",
   "execution_count": 241,
   "id": "8ded3299",
   "metadata": {},
   "outputs": [
    {
     "data": {
      "text/plain": [
       "'Ben Falcone (director/screenplay); Melissa McCarthy (screenplay); Melissa McCarthy, Maya Rudolph, Molly Gordon, Julie Bowen, Gillian Jacobs, Debby Ryan, Matt Walsh, Jacki Weaver'"
      ]
     },
     "execution_count": 241,
     "metadata": {},
     "output_type": "execute_result"
    }
   ],
   "source": [
    "df_2018[\"Cast and crew\"][100]"
   ]
  },
  {
   "cell_type": "code",
   "execution_count": 253,
   "id": "ed11e662",
   "metadata": {},
   "outputs": [],
   "source": [
    "def get_actor1(x):\n",
    "    return ((x.split(\"screenplay); \")[-1]).split(\", \")[0])"
   ]
  },
  {
   "cell_type": "code",
   "execution_count": 254,
   "id": "eb58fec1",
   "metadata": {},
   "outputs": [],
   "source": [
    "df_2018[\"actor_1_name\"]=df_2018[\"Cast and crew\"].map(lambda x: get_actor_1(x))"
   ]
  },
  {
   "cell_type": "code",
   "execution_count": 255,
   "id": "a272effe",
   "metadata": {},
   "outputs": [],
   "source": [
    "def get_actor_2(x):\n",
    "    if len(x.split(\"(screenplay);\")[-1].split(\",\"))<=1:\n",
    "        return np.NaN\n",
    "    else:\n",
    "        return x.split(\"(screenplay);\")[-1].split(\",\")[1]"
   ]
  },
  {
   "cell_type": "code",
   "execution_count": 256,
   "id": "a3c380c8",
   "metadata": {},
   "outputs": [],
   "source": [
    "df_2018[\"actor_2_name\"]=df_2018[\"Cast and crew\"].map(lambda x: get_actor_2(x))"
   ]
  },
  {
   "cell_type": "code",
   "execution_count": 257,
   "id": "cc68c4a4",
   "metadata": {},
   "outputs": [],
   "source": [
    "def get_actor_3(x):\n",
    "    if len(x.split(\"(screenplay);\")[-1].split(\",\"))<=2:\n",
    "        return np.NaN\n",
    "    else:\n",
    "        return x.split(\"(screenplay);\")[-1].split(\",\")[2]"
   ]
  },
  {
   "cell_type": "code",
   "execution_count": 258,
   "id": "ee09ac56",
   "metadata": {},
   "outputs": [],
   "source": [
    "df_2018[\"actor_3_name\"]=df_2018[\"Cast and crew\"].map(lambda x: get_actor_3(x))"
   ]
  },
  {
   "cell_type": "code",
   "execution_count": 259,
   "id": "92cbb9c3",
   "metadata": {},
   "outputs": [
    {
     "data": {
      "text/html": [
       "<div>\n",
       "<style scoped>\n",
       "    .dataframe tbody tr th:only-of-type {\n",
       "        vertical-align: middle;\n",
       "    }\n",
       "\n",
       "    .dataframe tbody tr th {\n",
       "        vertical-align: top;\n",
       "    }\n",
       "\n",
       "    .dataframe thead th {\n",
       "        text-align: right;\n",
       "    }\n",
       "</style>\n",
       "<table border=\"1\" class=\"dataframe\">\n",
       "  <thead>\n",
       "    <tr style=\"text-align: right;\">\n",
       "      <th></th>\n",
       "      <th>Title</th>\n",
       "      <th>Cast and crew</th>\n",
       "      <th>genres</th>\n",
       "      <th>director_name</th>\n",
       "      <th>actor_1_name</th>\n",
       "      <th>actor_2_name</th>\n",
       "      <th>actor_3_name</th>\n",
       "    </tr>\n",
       "  </thead>\n",
       "  <tbody>\n",
       "    <tr>\n",
       "      <th>0</th>\n",
       "      <td>Insidious: The Last Key</td>\n",
       "      <td>Adam Robitel (director); Leigh Whannell (scree...</td>\n",
       "      <td>Horror Mystery Thriller</td>\n",
       "      <td>Adam Robitel</td>\n",
       "      <td>Lin Shaye</td>\n",
       "      <td>Angus Sampson</td>\n",
       "      <td>Leigh Whannell</td>\n",
       "    </tr>\n",
       "    <tr>\n",
       "      <th>1</th>\n",
       "      <td>The Strange Ones</td>\n",
       "      <td>Lauren Wolkstein (director); Christopher Radcl...</td>\n",
       "      <td>Thriller Drama</td>\n",
       "      <td>Lauren Wolkstein</td>\n",
       "      <td>Lauren Wolkstein (director); Christopher Radcl...</td>\n",
       "      <td>James Freedson-Jackson</td>\n",
       "      <td>Emily Althaus</td>\n",
       "    </tr>\n",
       "  </tbody>\n",
       "</table>\n",
       "</div>"
      ],
      "text/plain": [
       "                     Title                                      Cast and crew  \\\n",
       "0  Insidious: The Last Key  Adam Robitel (director); Leigh Whannell (scree...   \n",
       "1         The Strange Ones  Lauren Wolkstein (director); Christopher Radcl...   \n",
       "\n",
       "                    genres      director_name  \\\n",
       "0  Horror Mystery Thriller      Adam Robitel    \n",
       "1           Thriller Drama  Lauren Wolkstein    \n",
       "\n",
       "                                        actor_1_name             actor_2_name  \\\n",
       "0                                          Lin Shaye            Angus Sampson   \n",
       "1  Lauren Wolkstein (director); Christopher Radcl...   James Freedson-Jackson   \n",
       "\n",
       "      actor_3_name  \n",
       "0   Leigh Whannell  \n",
       "1    Emily Althaus  "
      ]
     },
     "execution_count": 259,
     "metadata": {},
     "output_type": "execute_result"
    }
   ],
   "source": [
    "df_2018.head(2)"
   ]
  },
  {
   "cell_type": "code",
   "execution_count": 261,
   "id": "11ef8149",
   "metadata": {},
   "outputs": [],
   "source": [
    "df_2018=df_2018.rename(columns={\"Title\":\"movie_title\"})"
   ]
  },
  {
   "cell_type": "code",
   "execution_count": 262,
   "id": "c657ea2f",
   "metadata": {},
   "outputs": [],
   "source": [
    "newdf_2018=df_2018[[\"director_name\",\"actor_1_name\",\"actor_2_name\",\"actor_3_name\",\"genres\",\"movie_title\"]]"
   ]
  },
  {
   "cell_type": "code",
   "execution_count": 263,
   "id": "3ac508b1",
   "metadata": {},
   "outputs": [
    {
     "data": {
      "text/html": [
       "<div>\n",
       "<style scoped>\n",
       "    .dataframe tbody tr th:only-of-type {\n",
       "        vertical-align: middle;\n",
       "    }\n",
       "\n",
       "    .dataframe tbody tr th {\n",
       "        vertical-align: top;\n",
       "    }\n",
       "\n",
       "    .dataframe thead th {\n",
       "        text-align: right;\n",
       "    }\n",
       "</style>\n",
       "<table border=\"1\" class=\"dataframe\">\n",
       "  <thead>\n",
       "    <tr style=\"text-align: right;\">\n",
       "      <th></th>\n",
       "      <th>director_name</th>\n",
       "      <th>actor_1_name</th>\n",
       "      <th>actor_2_name</th>\n",
       "      <th>actor_3_name</th>\n",
       "      <th>genres</th>\n",
       "      <th>movie_title</th>\n",
       "    </tr>\n",
       "  </thead>\n",
       "  <tbody>\n",
       "    <tr>\n",
       "      <th>0</th>\n",
       "      <td>Adam Robitel</td>\n",
       "      <td>Lin Shaye</td>\n",
       "      <td>Angus Sampson</td>\n",
       "      <td>Leigh Whannell</td>\n",
       "      <td>Horror Mystery Thriller</td>\n",
       "      <td>Insidious: The Last Key</td>\n",
       "    </tr>\n",
       "    <tr>\n",
       "      <th>1</th>\n",
       "      <td>Lauren Wolkstein</td>\n",
       "      <td>Lauren Wolkstein (director); Christopher Radcl...</td>\n",
       "      <td>James Freedson-Jackson</td>\n",
       "      <td>Emily Althaus</td>\n",
       "      <td>Thriller Drama</td>\n",
       "      <td>The Strange Ones</td>\n",
       "    </tr>\n",
       "  </tbody>\n",
       "</table>\n",
       "</div>"
      ],
      "text/plain": [
       "       director_name                                       actor_1_name  \\\n",
       "0      Adam Robitel                                           Lin Shaye   \n",
       "1  Lauren Wolkstein   Lauren Wolkstein (director); Christopher Radcl...   \n",
       "\n",
       "              actor_2_name     actor_3_name                   genres  \\\n",
       "0            Angus Sampson   Leigh Whannell  Horror Mystery Thriller   \n",
       "1   James Freedson-Jackson    Emily Althaus           Thriller Drama   \n",
       "\n",
       "               movie_title  \n",
       "0  Insidious: The Last Key  \n",
       "1         The Strange Ones  "
      ]
     },
     "execution_count": 263,
     "metadata": {},
     "output_type": "execute_result"
    }
   ],
   "source": [
    "newdf_2018.head(2)"
   ]
  },
  {
   "cell_type": "code",
   "execution_count": 277,
   "id": "a9a3b700",
   "metadata": {},
   "outputs": [
    {
     "data": {
      "text/plain": [
       "director_name     0\n",
       "actor_1_name      0\n",
       "actor_2_name      0\n",
       "actor_3_name     25\n",
       "genres            3\n",
       "movie_title       0\n",
       "dtype: int64"
      ]
     },
     "execution_count": 277,
     "metadata": {},
     "output_type": "execute_result"
    }
   ],
   "source": [
    "newdf_2018.isna().sum()"
   ]
  },
  {
   "cell_type": "code",
   "execution_count": 291,
   "id": "4d598d38",
   "metadata": {},
   "outputs": [],
   "source": [
    "newdf_2018[\"actor_2_name\"]=newdf_2018[\"actor_2_name\"].replace(pd.NA,\"unknown\")\n",
    "newdf_2018[\"actor_3_name\"]=newdf_2018[\"actor_3_name\"].replace(pd.NA,\"unknown\")\n",
    "newdf_2018[\"genres\"]=newdf_2018[\"genres\"].replace(pd.NA,\"unknown\")"
   ]
  },
  {
   "cell_type": "code",
   "execution_count": 292,
   "id": "e750c292",
   "metadata": {},
   "outputs": [
    {
     "data": {
      "text/plain": [
       "director_name    0\n",
       "actor_1_name     0\n",
       "actor_2_name     0\n",
       "actor_3_name     0\n",
       "genres           0\n",
       "movie_title      0\n",
       "dtype: int64"
      ]
     },
     "execution_count": 292,
     "metadata": {},
     "output_type": "execute_result"
    }
   ],
   "source": [
    "newdf_2018.isna().sum()"
   ]
  },
  {
   "cell_type": "code",
   "execution_count": 293,
   "id": "3bf6c6c5",
   "metadata": {},
   "outputs": [],
   "source": [
    "newdf_2018[\"comb\"]=newdf_2018[\"actor_1_name\"]+\" \"+newdf_2018[\"actor_2_name\"]+\" \"+newdf_2018[\"actor_3_name\"]+\" \"+\\\n",
    "                   newdf_2018[\"director_name\"]+\" \"+newdf_2018[\"genres\"]"
   ]
  },
  {
   "cell_type": "code",
   "execution_count": 312,
   "id": "8baa66c6",
   "metadata": {},
   "outputs": [],
   "source": [
    "newdf_2018[\"movie_title\"]=newdf_2018[\"movie_title\"].str.lower()"
   ]
  },
  {
   "cell_type": "code",
   "execution_count": 313,
   "id": "d9695150",
   "metadata": {},
   "outputs": [
    {
     "data": {
      "text/html": [
       "<div>\n",
       "<style scoped>\n",
       "    .dataframe tbody tr th:only-of-type {\n",
       "        vertical-align: middle;\n",
       "    }\n",
       "\n",
       "    .dataframe tbody tr th {\n",
       "        vertical-align: top;\n",
       "    }\n",
       "\n",
       "    .dataframe thead th {\n",
       "        text-align: right;\n",
       "    }\n",
       "</style>\n",
       "<table border=\"1\" class=\"dataframe\">\n",
       "  <thead>\n",
       "    <tr style=\"text-align: right;\">\n",
       "      <th></th>\n",
       "      <th>director_name</th>\n",
       "      <th>actor_1_name</th>\n",
       "      <th>actor_2_name</th>\n",
       "      <th>actor_3_name</th>\n",
       "      <th>genres</th>\n",
       "      <th>movie_title</th>\n",
       "      <th>comb</th>\n",
       "    </tr>\n",
       "  </thead>\n",
       "  <tbody>\n",
       "    <tr>\n",
       "      <th>0</th>\n",
       "      <td>Adam Robitel</td>\n",
       "      <td>Lin Shaye</td>\n",
       "      <td>Angus Sampson</td>\n",
       "      <td>Leigh Whannell</td>\n",
       "      <td>Horror Mystery Thriller</td>\n",
       "      <td>insidious: the last key</td>\n",
       "      <td>Lin Shaye  Angus Sampson  Leigh Whannell Adam...</td>\n",
       "    </tr>\n",
       "    <tr>\n",
       "      <th>1</th>\n",
       "      <td>Lauren Wolkstein</td>\n",
       "      <td>Lauren Wolkstein (director); Christopher Radcl...</td>\n",
       "      <td>James Freedson-Jackson</td>\n",
       "      <td>Emily Althaus</td>\n",
       "      <td>Thriller Drama</td>\n",
       "      <td>the strange ones</td>\n",
       "      <td>Lauren Wolkstein (director); Christopher Radcl...</td>\n",
       "    </tr>\n",
       "  </tbody>\n",
       "</table>\n",
       "</div>"
      ],
      "text/plain": [
       "       director_name                                       actor_1_name  \\\n",
       "0      Adam Robitel                                           Lin Shaye   \n",
       "1  Lauren Wolkstein   Lauren Wolkstein (director); Christopher Radcl...   \n",
       "\n",
       "              actor_2_name     actor_3_name                   genres  \\\n",
       "0            Angus Sampson   Leigh Whannell  Horror Mystery Thriller   \n",
       "1   James Freedson-Jackson    Emily Althaus           Thriller Drama   \n",
       "\n",
       "               movie_title                                               comb  \n",
       "0  insidious: the last key   Lin Shaye  Angus Sampson  Leigh Whannell Adam...  \n",
       "1         the strange ones  Lauren Wolkstein (director); Christopher Radcl...  "
      ]
     },
     "execution_count": 313,
     "metadata": {},
     "output_type": "execute_result"
    }
   ],
   "source": [
    "newdf_2018.head(2)"
   ]
  },
  {
   "cell_type": "markdown",
   "id": "dd7f6eb0",
   "metadata": {},
   "source": [
    "## Extracting features of 2019 movies from wikipedia"
   ]
  },
  {
   "cell_type": "code",
   "execution_count": 297,
   "id": "44ba30fb",
   "metadata": {},
   "outputs": [],
   "source": [
    "link = \"https://en.wikipedia.org/wiki/List_of_American_films_of_2019\"\n",
    "df1=pd.read_html(link,header=0)[2]\n",
    "df2=pd.read_html(link,header=0)[3]\n",
    "df3=pd.read_html(link,header=0)[4]\n",
    "df4=pd.read_html(link,header=0)[5]"
   ]
  },
  {
   "cell_type": "code",
   "execution_count": 298,
   "id": "fa7561f3",
   "metadata": {},
   "outputs": [],
   "source": [
    "df=df1.append(df2.append(df3.append(df4,ignore_index=True),ignore_index=True),ignore_index=True)"
   ]
  },
  {
   "cell_type": "code",
   "execution_count": 299,
   "id": "746ff4a7",
   "metadata": {},
   "outputs": [
    {
     "data": {
      "text/plain": [
       "(242, 6)"
      ]
     },
     "execution_count": 299,
     "metadata": {},
     "output_type": "execute_result"
    }
   ],
   "source": [
    "df.shape"
   ]
  },
  {
   "cell_type": "code",
   "execution_count": 300,
   "id": "3af22043",
   "metadata": {},
   "outputs": [
    {
     "data": {
      "text/html": [
       "<div>\n",
       "<style scoped>\n",
       "    .dataframe tbody tr th:only-of-type {\n",
       "        vertical-align: middle;\n",
       "    }\n",
       "\n",
       "    .dataframe tbody tr th {\n",
       "        vertical-align: top;\n",
       "    }\n",
       "\n",
       "    .dataframe thead th {\n",
       "        text-align: right;\n",
       "    }\n",
       "</style>\n",
       "<table border=\"1\" class=\"dataframe\">\n",
       "  <thead>\n",
       "    <tr style=\"text-align: right;\">\n",
       "      <th></th>\n",
       "      <th>Opening</th>\n",
       "      <th>Opening.1</th>\n",
       "      <th>Title</th>\n",
       "      <th>Production company</th>\n",
       "      <th>Cast and crew</th>\n",
       "      <th>Ref.</th>\n",
       "    </tr>\n",
       "  </thead>\n",
       "  <tbody>\n",
       "    <tr>\n",
       "      <th>0</th>\n",
       "      <td>JANUARY</td>\n",
       "      <td>4</td>\n",
       "      <td>Escape Room</td>\n",
       "      <td>Columbia Pictures</td>\n",
       "      <td>Adam Robitel (director); Bragi F. Schut, Maria...</td>\n",
       "      <td>[2]</td>\n",
       "    </tr>\n",
       "    <tr>\n",
       "      <th>1</th>\n",
       "      <td>JANUARY</td>\n",
       "      <td>4</td>\n",
       "      <td>Rust Creek</td>\n",
       "      <td>IFC Films</td>\n",
       "      <td>Jen McGowan (director); Julie Lipson (screenpl...</td>\n",
       "      <td>[3]</td>\n",
       "    </tr>\n",
       "    <tr>\n",
       "      <th>2</th>\n",
       "      <td>JANUARY</td>\n",
       "      <td>4</td>\n",
       "      <td>American Hangman</td>\n",
       "      <td>Hangman Justice Productions</td>\n",
       "      <td>Wilson Coneybeare (director/screenplay); Donal...</td>\n",
       "      <td>[4]</td>\n",
       "    </tr>\n",
       "  </tbody>\n",
       "</table>\n",
       "</div>"
      ],
      "text/plain": [
       "   Opening  Opening.1             Title           Production company  \\\n",
       "0  JANUARY          4       Escape Room            Columbia Pictures   \n",
       "1  JANUARY          4        Rust Creek                    IFC Films   \n",
       "2  JANUARY          4  American Hangman  Hangman Justice Productions   \n",
       "\n",
       "                                       Cast and crew Ref.  \n",
       "0  Adam Robitel (director); Bragi F. Schut, Maria...  [2]  \n",
       "1  Jen McGowan (director); Julie Lipson (screenpl...  [3]  \n",
       "2  Wilson Coneybeare (director/screenplay); Donal...  [4]  "
      ]
     },
     "execution_count": 300,
     "metadata": {},
     "output_type": "execute_result"
    }
   ],
   "source": [
    "df.head(3)"
   ]
  },
  {
   "cell_type": "code",
   "execution_count": 301,
   "id": "5085abaf",
   "metadata": {},
   "outputs": [],
   "source": [
    "df[\"genres\"]=df[\"Title\"].map(lambda x:get_genre(str(x)))"
   ]
  },
  {
   "cell_type": "code",
   "execution_count": 302,
   "id": "27ea3cb5",
   "metadata": {},
   "outputs": [],
   "source": [
    "df_2019=df[[\"Title\",\"genres\",\"Cast and crew\"]]"
   ]
  },
  {
   "cell_type": "code",
   "execution_count": 303,
   "id": "da5e97c3",
   "metadata": {},
   "outputs": [
    {
     "data": {
      "text/html": [
       "<div>\n",
       "<style scoped>\n",
       "    .dataframe tbody tr th:only-of-type {\n",
       "        vertical-align: middle;\n",
       "    }\n",
       "\n",
       "    .dataframe tbody tr th {\n",
       "        vertical-align: top;\n",
       "    }\n",
       "\n",
       "    .dataframe thead th {\n",
       "        text-align: right;\n",
       "    }\n",
       "</style>\n",
       "<table border=\"1\" class=\"dataframe\">\n",
       "  <thead>\n",
       "    <tr style=\"text-align: right;\">\n",
       "      <th></th>\n",
       "      <th>Title</th>\n",
       "      <th>genres</th>\n",
       "      <th>Cast and crew</th>\n",
       "    </tr>\n",
       "  </thead>\n",
       "  <tbody>\n",
       "    <tr>\n",
       "      <th>0</th>\n",
       "      <td>Escape Room</td>\n",
       "      <td>Thriller Action Mystery Adventure Horror</td>\n",
       "      <td>Adam Robitel (director); Bragi F. Schut, Maria...</td>\n",
       "    </tr>\n",
       "    <tr>\n",
       "      <th>1</th>\n",
       "      <td>Rust Creek</td>\n",
       "      <td>Thriller Drama</td>\n",
       "      <td>Jen McGowan (director); Julie Lipson (screenpl...</td>\n",
       "    </tr>\n",
       "    <tr>\n",
       "      <th>2</th>\n",
       "      <td>American Hangman</td>\n",
       "      <td>Thriller</td>\n",
       "      <td>Wilson Coneybeare (director/screenplay); Donal...</td>\n",
       "    </tr>\n",
       "    <tr>\n",
       "      <th>3</th>\n",
       "      <td>A Dog's Way Home</td>\n",
       "      <td>Drama Adventure Family</td>\n",
       "      <td>Charles Martin Smith (director); W. Bruce Came...</td>\n",
       "    </tr>\n",
       "    <tr>\n",
       "      <th>4</th>\n",
       "      <td>The Upside</td>\n",
       "      <td>Comedy Drama</td>\n",
       "      <td>Neil Burger (director); Jon Hartmere (screenpl...</td>\n",
       "    </tr>\n",
       "  </tbody>\n",
       "</table>\n",
       "</div>"
      ],
      "text/plain": [
       "              Title                                    genres  \\\n",
       "0       Escape Room  Thriller Action Mystery Adventure Horror   \n",
       "1        Rust Creek                            Thriller Drama   \n",
       "2  American Hangman                                  Thriller   \n",
       "3  A Dog's Way Home                    Drama Adventure Family   \n",
       "4        The Upside                              Comedy Drama   \n",
       "\n",
       "                                       Cast and crew  \n",
       "0  Adam Robitel (director); Bragi F. Schut, Maria...  \n",
       "1  Jen McGowan (director); Julie Lipson (screenpl...  \n",
       "2  Wilson Coneybeare (director/screenplay); Donal...  \n",
       "3  Charles Martin Smith (director); W. Bruce Came...  \n",
       "4  Neil Burger (director); Jon Hartmere (screenpl...  "
      ]
     },
     "execution_count": 303,
     "metadata": {},
     "output_type": "execute_result"
    }
   ],
   "source": [
    "df_2019.head()"
   ]
  },
  {
   "cell_type": "code",
   "execution_count": 306,
   "id": "5bd64139",
   "metadata": {},
   "outputs": [
    {
     "data": {
      "text/plain": [
       "'J. C. Chandor (director/screenplay); Mark Boal (screenplay); Ben Affleck, Oscar Isaac, Charlie Hunnam, Garrett Hedlund, Pedro Pascal'"
      ]
     },
     "execution_count": 306,
     "metadata": {},
     "output_type": "execute_result"
    }
   ],
   "source": [
    "df_2019[\"Cast and crew\"][30]"
   ]
  },
  {
   "cell_type": "code",
   "execution_count": 307,
   "id": "30c908e4",
   "metadata": {},
   "outputs": [],
   "source": [
    "def get_director(x):\n",
    "    if \"(director)\" in x:\n",
    "        return x.split(\"(director)\")[0]\n",
    "    elif \"(directors)\" in x:\n",
    "        return x.split(\"(directors)\")[0]\n",
    "    else:\n",
    "        return x.split(\"(director/screenplay)\")[0]\n",
    "    "
   ]
  },
  {
   "cell_type": "code",
   "execution_count": 308,
   "id": "1fe01829",
   "metadata": {},
   "outputs": [],
   "source": [
    "df_2019[\"director_name\"]=df_2019[\"Cast and crew\"].map(lambda x:get_director(x))"
   ]
  },
  {
   "cell_type": "code",
   "execution_count": 311,
   "id": "4a90bd21",
   "metadata": {},
   "outputs": [],
   "source": [
    "df_2019[\"actor_1_name\"]=df_2019[\"Cast and crew\"].map(lambda x: get_actor_1(x))\n",
    "df_2019[\"actor_2_name\"]=df_2019[\"Cast and crew\"].map(lambda x: get_actor_2(x))\n",
    "df_2019[\"actor_3_name\"]=df_2019[\"Cast and crew\"].map(lambda x: get_actor_3(x))"
   ]
  },
  {
   "cell_type": "code",
   "execution_count": 317,
   "id": "476bed59",
   "metadata": {},
   "outputs": [],
   "source": [
    "df_2019=df_2019.rename(columns={\"Title\":\"movie_title\"})"
   ]
  },
  {
   "cell_type": "code",
   "execution_count": 318,
   "id": "5dc98ccb",
   "metadata": {},
   "outputs": [
    {
     "data": {
      "text/html": [
       "<div>\n",
       "<style scoped>\n",
       "    .dataframe tbody tr th:only-of-type {\n",
       "        vertical-align: middle;\n",
       "    }\n",
       "\n",
       "    .dataframe tbody tr th {\n",
       "        vertical-align: top;\n",
       "    }\n",
       "\n",
       "    .dataframe thead th {\n",
       "        text-align: right;\n",
       "    }\n",
       "</style>\n",
       "<table border=\"1\" class=\"dataframe\">\n",
       "  <thead>\n",
       "    <tr style=\"text-align: right;\">\n",
       "      <th></th>\n",
       "      <th>movie_title</th>\n",
       "      <th>genres</th>\n",
       "      <th>Cast and crew</th>\n",
       "      <th>director_name</th>\n",
       "      <th>actor_1_name</th>\n",
       "      <th>actor_2_name</th>\n",
       "      <th>actor_3_name</th>\n",
       "    </tr>\n",
       "  </thead>\n",
       "  <tbody>\n",
       "    <tr>\n",
       "      <th>0</th>\n",
       "      <td>Escape Room</td>\n",
       "      <td>Thriller Action Mystery Adventure Horror</td>\n",
       "      <td>Adam Robitel (director); Bragi F. Schut, Maria...</td>\n",
       "      <td>Adam Robitel</td>\n",
       "      <td>Taylor Russell</td>\n",
       "      <td>Logan Miller</td>\n",
       "      <td>Deborah Ann Woll</td>\n",
       "    </tr>\n",
       "    <tr>\n",
       "      <th>1</th>\n",
       "      <td>Rust Creek</td>\n",
       "      <td>Thriller Drama</td>\n",
       "      <td>Jen McGowan (director); Julie Lipson (screenpl...</td>\n",
       "      <td>Jen McGowan</td>\n",
       "      <td>Hermione Corfield</td>\n",
       "      <td>Jay Paulson</td>\n",
       "      <td>Sean O'Bryan</td>\n",
       "    </tr>\n",
       "    <tr>\n",
       "      <th>2</th>\n",
       "      <td>American Hangman</td>\n",
       "      <td>Thriller</td>\n",
       "      <td>Wilson Coneybeare (director/screenplay); Donal...</td>\n",
       "      <td>Wilson Coneybeare</td>\n",
       "      <td>Wilson Coneybeare (director/screenplay); Donal...</td>\n",
       "      <td>Vincent Kartheiser</td>\n",
       "      <td>Oliver Dennis</td>\n",
       "    </tr>\n",
       "    <tr>\n",
       "      <th>3</th>\n",
       "      <td>A Dog's Way Home</td>\n",
       "      <td>Drama Adventure Family</td>\n",
       "      <td>Charles Martin Smith (director); W. Bruce Came...</td>\n",
       "      <td>Charles Martin Smith</td>\n",
       "      <td>Bryce Dallas Howard</td>\n",
       "      <td>Edward James Olmos</td>\n",
       "      <td>Alexandra Shipp</td>\n",
       "    </tr>\n",
       "    <tr>\n",
       "      <th>4</th>\n",
       "      <td>The Upside</td>\n",
       "      <td>Comedy Drama</td>\n",
       "      <td>Neil Burger (director); Jon Hartmere (screenpl...</td>\n",
       "      <td>Neil Burger</td>\n",
       "      <td>Bryan Cranston</td>\n",
       "      <td>Kevin Hart</td>\n",
       "      <td>Nicole Kidman</td>\n",
       "    </tr>\n",
       "  </tbody>\n",
       "</table>\n",
       "</div>"
      ],
      "text/plain": [
       "        movie_title                                    genres  \\\n",
       "0       Escape Room  Thriller Action Mystery Adventure Horror   \n",
       "1        Rust Creek                            Thriller Drama   \n",
       "2  American Hangman                                  Thriller   \n",
       "3  A Dog's Way Home                    Drama Adventure Family   \n",
       "4        The Upside                              Comedy Drama   \n",
       "\n",
       "                                       Cast and crew          director_name  \\\n",
       "0  Adam Robitel (director); Bragi F. Schut, Maria...          Adam Robitel    \n",
       "1  Jen McGowan (director); Julie Lipson (screenpl...           Jen McGowan    \n",
       "2  Wilson Coneybeare (director/screenplay); Donal...     Wilson Coneybeare    \n",
       "3  Charles Martin Smith (director); W. Bruce Came...  Charles Martin Smith    \n",
       "4  Neil Burger (director); Jon Hartmere (screenpl...           Neil Burger    \n",
       "\n",
       "                                        actor_1_name         actor_2_name  \\\n",
       "0                                     Taylor Russell         Logan Miller   \n",
       "1                                  Hermione Corfield          Jay Paulson   \n",
       "2  Wilson Coneybeare (director/screenplay); Donal...   Vincent Kartheiser   \n",
       "3                                Bryce Dallas Howard   Edward James Olmos   \n",
       "4                                     Bryan Cranston           Kevin Hart   \n",
       "\n",
       "        actor_3_name  \n",
       "0   Deborah Ann Woll  \n",
       "1       Sean O'Bryan  \n",
       "2      Oliver Dennis  \n",
       "3    Alexandra Shipp  \n",
       "4      Nicole Kidman  "
      ]
     },
     "execution_count": 318,
     "metadata": {},
     "output_type": "execute_result"
    }
   ],
   "source": [
    "df_2019.head()"
   ]
  },
  {
   "cell_type": "code",
   "execution_count": 319,
   "id": "37b19182",
   "metadata": {},
   "outputs": [],
   "source": [
    "df_2019[\"movie_title\"]=df_2019[\"movie_title\"].str.lower()"
   ]
  },
  {
   "cell_type": "code",
   "execution_count": 320,
   "id": "885303f2",
   "metadata": {},
   "outputs": [],
   "source": [
    "newdf_2019=df_2019.loc[:,[\"director_name\",\"actor_1_name\",\"actor_2_name\",\"actor_3_name\",\"genres\",\"movie_title\"]]"
   ]
  },
  {
   "cell_type": "code",
   "execution_count": 322,
   "id": "032a3446",
   "metadata": {},
   "outputs": [
    {
     "data": {
      "text/plain": [
       "director_name     0\n",
       "actor_1_name      0\n",
       "actor_2_name      1\n",
       "actor_3_name     15\n",
       "genres            0\n",
       "movie_title       0\n",
       "dtype: int64"
      ]
     },
     "execution_count": 322,
     "metadata": {},
     "output_type": "execute_result"
    }
   ],
   "source": [
    "newdf_2019.isna().sum()"
   ]
  },
  {
   "cell_type": "code",
   "execution_count": 323,
   "id": "0f8c8f1d",
   "metadata": {},
   "outputs": [],
   "source": [
    "newdf_2019[\"actor_2_name\"]=newdf_2019[\"actor_2_name\"].replace(pd.NA,\"unknown\")\n",
    "newdf_2019[\"actor_3_name\"]=newdf_2019[\"actor_3_name\"].replace(pd.NA,\"unknown\")"
   ]
  },
  {
   "cell_type": "code",
   "execution_count": 324,
   "id": "24ab18a9",
   "metadata": {},
   "outputs": [
    {
     "data": {
      "text/plain": [
       "director_name    0\n",
       "actor_1_name     0\n",
       "actor_2_name     0\n",
       "actor_3_name     0\n",
       "genres           0\n",
       "movie_title      0\n",
       "dtype: int64"
      ]
     },
     "execution_count": 324,
     "metadata": {},
     "output_type": "execute_result"
    }
   ],
   "source": [
    "newdf_2019.isna().sum()"
   ]
  },
  {
   "cell_type": "code",
   "execution_count": 325,
   "id": "acede5a6",
   "metadata": {},
   "outputs": [],
   "source": [
    "newdf_2019[\"comb\"]=newdf_2019[\"actor_1_name\"]+\" \"+newdf_2019[\"actor_2_name\"]+\" \"+newdf_2019[\"actor_3_name\"]+\" \"+\\\n",
    "                   newdf_2019[\"director_name\"]+\" \"+newdf_2019[\"genres\"]"
   ]
  },
  {
   "cell_type": "code",
   "execution_count": 326,
   "id": "d7d0477b",
   "metadata": {},
   "outputs": [],
   "source": [
    "my_df=newdf_2018.append(newdf_2019,ignore_index=True)"
   ]
  },
  {
   "cell_type": "code",
   "execution_count": 328,
   "id": "bf20cb97",
   "metadata": {},
   "outputs": [
    {
     "data": {
      "text/html": [
       "<div>\n",
       "<style scoped>\n",
       "    .dataframe tbody tr th:only-of-type {\n",
       "        vertical-align: middle;\n",
       "    }\n",
       "\n",
       "    .dataframe tbody tr th {\n",
       "        vertical-align: top;\n",
       "    }\n",
       "\n",
       "    .dataframe thead th {\n",
       "        text-align: right;\n",
       "    }\n",
       "</style>\n",
       "<table border=\"1\" class=\"dataframe\">\n",
       "  <thead>\n",
       "    <tr style=\"text-align: right;\">\n",
       "      <th></th>\n",
       "      <th>director_name</th>\n",
       "      <th>actor_1_name</th>\n",
       "      <th>actor_2_name</th>\n",
       "      <th>actor_3_name</th>\n",
       "      <th>genres</th>\n",
       "      <th>movie_title</th>\n",
       "      <th>comb</th>\n",
       "    </tr>\n",
       "  </thead>\n",
       "  <tbody>\n",
       "    <tr>\n",
       "      <th>0</th>\n",
       "      <td>Adam Robitel</td>\n",
       "      <td>Lin Shaye</td>\n",
       "      <td>Angus Sampson</td>\n",
       "      <td>Leigh Whannell</td>\n",
       "      <td>Horror Mystery Thriller</td>\n",
       "      <td>insidious: the last key</td>\n",
       "      <td>Lin Shaye  Angus Sampson  Leigh Whannell Adam...</td>\n",
       "    </tr>\n",
       "    <tr>\n",
       "      <th>1</th>\n",
       "      <td>Lauren Wolkstein</td>\n",
       "      <td>Lauren Wolkstein (director); Christopher Radcl...</td>\n",
       "      <td>James Freedson-Jackson</td>\n",
       "      <td>Emily Althaus</td>\n",
       "      <td>Thriller Drama</td>\n",
       "      <td>the strange ones</td>\n",
       "      <td>Lauren Wolkstein (director); Christopher Radcl...</td>\n",
       "    </tr>\n",
       "    <tr>\n",
       "      <th>2</th>\n",
       "      <td>Simon West</td>\n",
       "      <td>Dominic Cooper</td>\n",
       "      <td>Austin Stowell</td>\n",
       "      <td>Gemma Chan</td>\n",
       "      <td>Action Thriller</td>\n",
       "      <td>stratton</td>\n",
       "      <td>Dominic Cooper  Austin Stowell  Gemma Chan Si...</td>\n",
       "    </tr>\n",
       "    <tr>\n",
       "      <th>3</th>\n",
       "      <td>Warwick Thornton</td>\n",
       "      <td>Bryan Brown</td>\n",
       "      <td>Sam Neill</td>\n",
       "      <td>unknown</td>\n",
       "      <td>Drama History Western</td>\n",
       "      <td>sweet country</td>\n",
       "      <td>Bryan Brown  Sam Neill unknown Warwick Thornt...</td>\n",
       "    </tr>\n",
       "    <tr>\n",
       "      <th>4</th>\n",
       "      <td>Jaume Collet-Serra</td>\n",
       "      <td>Liam Neeson</td>\n",
       "      <td>Vera Farmiga</td>\n",
       "      <td>Patrick Wilson</td>\n",
       "      <td>Action Thriller</td>\n",
       "      <td>the commuter</td>\n",
       "      <td>Liam Neeson  Vera Farmiga  Patrick Wilson Jau...</td>\n",
       "    </tr>\n",
       "  </tbody>\n",
       "</table>\n",
       "</div>"
      ],
      "text/plain": [
       "         director_name                                       actor_1_name  \\\n",
       "0        Adam Robitel                                           Lin Shaye   \n",
       "1    Lauren Wolkstein   Lauren Wolkstein (director); Christopher Radcl...   \n",
       "2          Simon West                                      Dominic Cooper   \n",
       "3    Warwick Thornton                                         Bryan Brown   \n",
       "4  Jaume Collet-Serra                                         Liam Neeson   \n",
       "\n",
       "              actor_2_name     actor_3_name                   genres  \\\n",
       "0            Angus Sampson   Leigh Whannell  Horror Mystery Thriller   \n",
       "1   James Freedson-Jackson    Emily Althaus           Thriller Drama   \n",
       "2           Austin Stowell       Gemma Chan          Action Thriller   \n",
       "3                Sam Neill          unknown    Drama History Western   \n",
       "4             Vera Farmiga   Patrick Wilson          Action Thriller   \n",
       "\n",
       "               movie_title                                               comb  \n",
       "0  insidious: the last key   Lin Shaye  Angus Sampson  Leigh Whannell Adam...  \n",
       "1         the strange ones  Lauren Wolkstein (director); Christopher Radcl...  \n",
       "2                 stratton   Dominic Cooper  Austin Stowell  Gemma Chan Si...  \n",
       "3            sweet country   Bryan Brown  Sam Neill unknown Warwick Thornt...  \n",
       "4             the commuter   Liam Neeson  Vera Farmiga  Patrick Wilson Jau...  "
      ]
     },
     "execution_count": 328,
     "metadata": {},
     "output_type": "execute_result"
    }
   ],
   "source": [
    "my_df.head()"
   ]
  },
  {
   "cell_type": "code",
   "execution_count": 329,
   "id": "86b37575",
   "metadata": {},
   "outputs": [],
   "source": [
    "old_df=pd.read_csv(\"new_data.csv\")"
   ]
  },
  {
   "cell_type": "code",
   "execution_count": 330,
   "id": "18a5b0c4",
   "metadata": {},
   "outputs": [
    {
     "data": {
      "text/plain": [
       "(5435, 7)"
      ]
     },
     "execution_count": 330,
     "metadata": {},
     "output_type": "execute_result"
    }
   ],
   "source": [
    "old_df.shape"
   ]
  },
  {
   "cell_type": "code",
   "execution_count": 331,
   "id": "abb66215",
   "metadata": {},
   "outputs": [
    {
     "data": {
      "text/plain": [
       "director_name     3\n",
       "actor_1_name     21\n",
       "actor_2_name     53\n",
       "actor_3_name     68\n",
       "genres            6\n",
       "movie_title       0\n",
       "comb             71\n",
       "dtype: int64"
      ]
     },
     "execution_count": 331,
     "metadata": {},
     "output_type": "execute_result"
    }
   ],
   "source": [
    "old_df.isna().sum()"
   ]
  },
  {
   "cell_type": "code",
   "execution_count": 333,
   "id": "8ff80a57",
   "metadata": {},
   "outputs": [],
   "source": [
    "old_df.dropna(inplace=True)"
   ]
  },
  {
   "cell_type": "code",
   "execution_count": 334,
   "id": "4cc8b1c8",
   "metadata": {},
   "outputs": [],
   "source": [
    "final_df=old_df.append(my_df,ignore_index=True)"
   ]
  },
  {
   "cell_type": "code",
   "execution_count": 335,
   "id": "aa0ce525",
   "metadata": {},
   "outputs": [
    {
     "data": {
      "text/html": [
       "<div>\n",
       "<style scoped>\n",
       "    .dataframe tbody tr th:only-of-type {\n",
       "        vertical-align: middle;\n",
       "    }\n",
       "\n",
       "    .dataframe tbody tr th {\n",
       "        vertical-align: top;\n",
       "    }\n",
       "\n",
       "    .dataframe thead th {\n",
       "        text-align: right;\n",
       "    }\n",
       "</style>\n",
       "<table border=\"1\" class=\"dataframe\">\n",
       "  <thead>\n",
       "    <tr style=\"text-align: right;\">\n",
       "      <th></th>\n",
       "      <th>director_name</th>\n",
       "      <th>actor_1_name</th>\n",
       "      <th>actor_2_name</th>\n",
       "      <th>actor_3_name</th>\n",
       "      <th>genres</th>\n",
       "      <th>movie_title</th>\n",
       "      <th>comb</th>\n",
       "    </tr>\n",
       "  </thead>\n",
       "  <tbody>\n",
       "    <tr>\n",
       "      <th>0</th>\n",
       "      <td>James Cameron</td>\n",
       "      <td>CCH Pounder</td>\n",
       "      <td>Joel David Moore</td>\n",
       "      <td>Wes Studi</td>\n",
       "      <td>Action Adventure Fantasy Sci-Fi</td>\n",
       "      <td>avatar</td>\n",
       "      <td>CCH Pounder Joel David Moore Wes Studi James C...</td>\n",
       "    </tr>\n",
       "    <tr>\n",
       "      <th>1</th>\n",
       "      <td>Gore Verbinski</td>\n",
       "      <td>Johnny Depp</td>\n",
       "      <td>Orlando Bloom</td>\n",
       "      <td>Jack Davenport</td>\n",
       "      <td>Action Adventure Fantasy</td>\n",
       "      <td>pirates of the caribbean: at world's end</td>\n",
       "      <td>Johnny Depp Orlando Bloom Jack Davenport Gore ...</td>\n",
       "    </tr>\n",
       "    <tr>\n",
       "      <th>2</th>\n",
       "      <td>Sam Mendes</td>\n",
       "      <td>Christoph Waltz</td>\n",
       "      <td>Rory Kinnear</td>\n",
       "      <td>Stephanie Sigman</td>\n",
       "      <td>Action Adventure Thriller</td>\n",
       "      <td>spectre</td>\n",
       "      <td>Christoph Waltz Rory Kinnear Stephanie Sigman ...</td>\n",
       "    </tr>\n",
       "  </tbody>\n",
       "</table>\n",
       "</div>"
      ],
      "text/plain": [
       "    director_name     actor_1_name      actor_2_name      actor_3_name  \\\n",
       "0   James Cameron      CCH Pounder  Joel David Moore         Wes Studi   \n",
       "1  Gore Verbinski      Johnny Depp     Orlando Bloom    Jack Davenport   \n",
       "2      Sam Mendes  Christoph Waltz      Rory Kinnear  Stephanie Sigman   \n",
       "\n",
       "                            genres                               movie_title  \\\n",
       "0  Action Adventure Fantasy Sci-Fi                                    avatar   \n",
       "1         Action Adventure Fantasy  pirates of the caribbean: at world's end   \n",
       "2        Action Adventure Thriller                                   spectre   \n",
       "\n",
       "                                                comb  \n",
       "0  CCH Pounder Joel David Moore Wes Studi James C...  \n",
       "1  Johnny Depp Orlando Bloom Jack Davenport Gore ...  \n",
       "2  Christoph Waltz Rory Kinnear Stephanie Sigman ...  "
      ]
     },
     "execution_count": 335,
     "metadata": {},
     "output_type": "execute_result"
    }
   ],
   "source": [
    "final_df.head(3)"
   ]
  },
  {
   "cell_type": "code",
   "execution_count": 338,
   "id": "14597606",
   "metadata": {},
   "outputs": [],
   "source": [
    "final_df.dropna(inplace=True)"
   ]
  },
  {
   "cell_type": "code",
   "execution_count": null,
   "id": "24e44314",
   "metadata": {},
   "outputs": [],
   "source": [
    "final_df"
   ]
  }
 ],
 "metadata": {
  "kernelspec": {
   "display_name": "Python 3",
   "language": "python",
   "name": "python3"
  },
  "language_info": {
   "codemirror_mode": {
    "name": "ipython",
    "version": 3
   },
   "file_extension": ".py",
   "mimetype": "text/x-python",
   "name": "python",
   "nbconvert_exporter": "python",
   "pygments_lexer": "ipython3",
   "version": "3.8.6"
  }
 },
 "nbformat": 4,
 "nbformat_minor": 5
}
