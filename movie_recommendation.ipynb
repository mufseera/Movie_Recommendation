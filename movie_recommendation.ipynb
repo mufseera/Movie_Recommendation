{
 "cells": [
  {
   "cell_type": "code",
   "execution_count": 19,
   "id": "1b9df359",
   "metadata": {},
   "outputs": [],
   "source": [
    "import pandas as pd\n",
    "import numpy as np\n",
    "from sklearn.metrics.pairwise import cosine_similarity\n",
    "from sklearn.feature_extraction.text import CountVectorizer\n",
    "import warnings\n",
    "warnings.filterwarnings(\"ignore\")"
   ]
  },
  {
   "cell_type": "code",
   "execution_count": 2,
   "id": "3afa98dd",
   "metadata": {},
   "outputs": [],
   "source": [
    "data=pd.read_csv(\"main_data.csv\")"
   ]
  },
  {
   "cell_type": "code",
   "execution_count": 3,
   "id": "607cb4a8",
   "metadata": {},
   "outputs": [
    {
     "data": {
      "text/html": [
       "<div>\n",
       "<style scoped>\n",
       "    .dataframe tbody tr th:only-of-type {\n",
       "        vertical-align: middle;\n",
       "    }\n",
       "\n",
       "    .dataframe tbody tr th {\n",
       "        vertical-align: top;\n",
       "    }\n",
       "\n",
       "    .dataframe thead th {\n",
       "        text-align: right;\n",
       "    }\n",
       "</style>\n",
       "<table border=\"1\" class=\"dataframe\">\n",
       "  <thead>\n",
       "    <tr style=\"text-align: right;\">\n",
       "      <th></th>\n",
       "      <th>Unnamed: 0</th>\n",
       "      <th>director_name</th>\n",
       "      <th>actor_1_name</th>\n",
       "      <th>actor_2_name</th>\n",
       "      <th>actor_3_name</th>\n",
       "      <th>genres</th>\n",
       "      <th>movie_title</th>\n",
       "      <th>comb</th>\n",
       "    </tr>\n",
       "  </thead>\n",
       "  <tbody>\n",
       "    <tr>\n",
       "      <th>0</th>\n",
       "      <td>0.0</td>\n",
       "      <td>James Cameron</td>\n",
       "      <td>CCH Pounder</td>\n",
       "      <td>Joel David Moore</td>\n",
       "      <td>Wes Studi</td>\n",
       "      <td>Action Adventure Fantasy Sci-Fi</td>\n",
       "      <td>avatar</td>\n",
       "      <td>CCH Pounder Joel David Moore Wes Studi James C...</td>\n",
       "    </tr>\n",
       "    <tr>\n",
       "      <th>1</th>\n",
       "      <td>1.0</td>\n",
       "      <td>Gore Verbinski</td>\n",
       "      <td>Johnny Depp</td>\n",
       "      <td>Orlando Bloom</td>\n",
       "      <td>Jack Davenport</td>\n",
       "      <td>Action Adventure Fantasy</td>\n",
       "      <td>pirates of the caribbean: at world's end</td>\n",
       "      <td>Johnny Depp Orlando Bloom Jack Davenport Gore ...</td>\n",
       "    </tr>\n",
       "  </tbody>\n",
       "</table>\n",
       "</div>"
      ],
      "text/plain": [
       "   Unnamed: 0   director_name actor_1_name      actor_2_name    actor_3_name  \\\n",
       "0         0.0   James Cameron  CCH Pounder  Joel David Moore       Wes Studi   \n",
       "1         1.0  Gore Verbinski  Johnny Depp     Orlando Bloom  Jack Davenport   \n",
       "\n",
       "                            genres                               movie_title  \\\n",
       "0  Action Adventure Fantasy Sci-Fi                                    avatar   \n",
       "1         Action Adventure Fantasy  pirates of the caribbean: at world's end   \n",
       "\n",
       "                                                comb  \n",
       "0  CCH Pounder Joel David Moore Wes Studi James C...  \n",
       "1  Johnny Depp Orlando Bloom Jack Davenport Gore ...  "
      ]
     },
     "execution_count": 3,
     "metadata": {},
     "output_type": "execute_result"
    }
   ],
   "source": [
    "data.head(2)"
   ]
  },
  {
   "cell_type": "code",
   "execution_count": 4,
   "id": "8fce7e92",
   "metadata": {},
   "outputs": [],
   "source": [
    "data.drop(columns=[\"Unnamed: 0\",\"comb\"],inplace=True)"
   ]
  },
  {
   "cell_type": "code",
   "execution_count": 6,
   "id": "6867c373",
   "metadata": {},
   "outputs": [],
   "source": [
    "for index,row in data.iterrows():\n",
    "    row[\"director_name\"]=row[\"director_name\"].replace(\" \",\"\")\n",
    "    row[\"actor_1_name\"]=row[\"actor_1_name\"].replace(\" \",\"\")\n",
    "    row[\"actor_2_name\"]=row[\"actor_2_name\"].replace(\" \",\"\")\n",
    "    row[\"actor_3_name\"]=row[\"actor_3_name\"].replace(\" \",\"\")"
   ]
  },
  {
   "cell_type": "code",
   "execution_count": 7,
   "id": "f84d018e",
   "metadata": {},
   "outputs": [
    {
     "data": {
      "text/html": [
       "<div>\n",
       "<style scoped>\n",
       "    .dataframe tbody tr th:only-of-type {\n",
       "        vertical-align: middle;\n",
       "    }\n",
       "\n",
       "    .dataframe tbody tr th {\n",
       "        vertical-align: top;\n",
       "    }\n",
       "\n",
       "    .dataframe thead th {\n",
       "        text-align: right;\n",
       "    }\n",
       "</style>\n",
       "<table border=\"1\" class=\"dataframe\">\n",
       "  <thead>\n",
       "    <tr style=\"text-align: right;\">\n",
       "      <th></th>\n",
       "      <th>director_name</th>\n",
       "      <th>actor_1_name</th>\n",
       "      <th>actor_2_name</th>\n",
       "      <th>actor_3_name</th>\n",
       "      <th>genres</th>\n",
       "      <th>movie_title</th>\n",
       "    </tr>\n",
       "  </thead>\n",
       "  <tbody>\n",
       "    <tr>\n",
       "      <th>0</th>\n",
       "      <td>JamesCameron</td>\n",
       "      <td>CCHPounder</td>\n",
       "      <td>JoelDavidMoore</td>\n",
       "      <td>WesStudi</td>\n",
       "      <td>Action Adventure Fantasy Sci-Fi</td>\n",
       "      <td>avatar</td>\n",
       "    </tr>\n",
       "    <tr>\n",
       "      <th>1</th>\n",
       "      <td>GoreVerbinski</td>\n",
       "      <td>JohnnyDepp</td>\n",
       "      <td>OrlandoBloom</td>\n",
       "      <td>JackDavenport</td>\n",
       "      <td>Action Adventure Fantasy</td>\n",
       "      <td>pirates of the caribbean: at world's end</td>\n",
       "    </tr>\n",
       "    <tr>\n",
       "      <th>2</th>\n",
       "      <td>SamMendes</td>\n",
       "      <td>ChristophWaltz</td>\n",
       "      <td>RoryKinnear</td>\n",
       "      <td>StephanieSigman</td>\n",
       "      <td>Action Adventure Thriller</td>\n",
       "      <td>spectre</td>\n",
       "    </tr>\n",
       "    <tr>\n",
       "      <th>3</th>\n",
       "      <td>ChristopherNolan</td>\n",
       "      <td>TomHardy</td>\n",
       "      <td>ChristianBale</td>\n",
       "      <td>JosephGordon-Levitt</td>\n",
       "      <td>Action Thriller</td>\n",
       "      <td>the dark knight rises</td>\n",
       "    </tr>\n",
       "    <tr>\n",
       "      <th>4</th>\n",
       "      <td>DougWalker</td>\n",
       "      <td>DougWalker</td>\n",
       "      <td>RobWalker</td>\n",
       "      <td>unknown</td>\n",
       "      <td>Documentary</td>\n",
       "      <td>star wars: episode vii - the force awakens    ...</td>\n",
       "    </tr>\n",
       "  </tbody>\n",
       "</table>\n",
       "</div>"
      ],
      "text/plain": [
       "      director_name    actor_1_name    actor_2_name         actor_3_name  \\\n",
       "0      JamesCameron      CCHPounder  JoelDavidMoore             WesStudi   \n",
       "1     GoreVerbinski      JohnnyDepp    OrlandoBloom        JackDavenport   \n",
       "2         SamMendes  ChristophWaltz     RoryKinnear      StephanieSigman   \n",
       "3  ChristopherNolan        TomHardy   ChristianBale  JosephGordon-Levitt   \n",
       "4        DougWalker      DougWalker       RobWalker              unknown   \n",
       "\n",
       "                            genres  \\\n",
       "0  Action Adventure Fantasy Sci-Fi   \n",
       "1         Action Adventure Fantasy   \n",
       "2        Action Adventure Thriller   \n",
       "3                  Action Thriller   \n",
       "4                      Documentary   \n",
       "\n",
       "                                         movie_title  \n",
       "0                                             avatar  \n",
       "1           pirates of the caribbean: at world's end  \n",
       "2                                            spectre  \n",
       "3                              the dark knight rises  \n",
       "4  star wars: episode vii - the force awakens    ...  "
      ]
     },
     "execution_count": 7,
     "metadata": {},
     "output_type": "execute_result"
    }
   ],
   "source": [
    "data.head()"
   ]
  },
  {
   "cell_type": "code",
   "execution_count": 8,
   "id": "a9f69a8b",
   "metadata": {},
   "outputs": [],
   "source": [
    "data.set_index(\"movie_title\",inplace=True)"
   ]
  },
  {
   "cell_type": "code",
   "execution_count": 10,
   "id": "68bd3821",
   "metadata": {},
   "outputs": [],
   "source": [
    "data[\"comb\"]=data[\"actor_1_name\"]+\" \"+data[\"actor_2_name\"]+\" \"+data[\"actor_3_name\"]+\" \"+\\\n",
    "                   data[\"director_name\"]+\" \"+data[\"genres\"]"
   ]
  },
  {
   "cell_type": "code",
   "execution_count": 23,
   "id": "64d352e6",
   "metadata": {},
   "outputs": [
    {
     "data": {
      "text/html": [
       "<div>\n",
       "<style scoped>\n",
       "    .dataframe tbody tr th:only-of-type {\n",
       "        vertical-align: middle;\n",
       "    }\n",
       "\n",
       "    .dataframe tbody tr th {\n",
       "        vertical-align: top;\n",
       "    }\n",
       "\n",
       "    .dataframe thead th {\n",
       "        text-align: right;\n",
       "    }\n",
       "</style>\n",
       "<table border=\"1\" class=\"dataframe\">\n",
       "  <thead>\n",
       "    <tr style=\"text-align: right;\">\n",
       "      <th></th>\n",
       "      <th>comb</th>\n",
       "    </tr>\n",
       "    <tr>\n",
       "      <th>movie_title</th>\n",
       "      <th></th>\n",
       "    </tr>\n",
       "  </thead>\n",
       "  <tbody>\n",
       "    <tr>\n",
       "      <th>avatar</th>\n",
       "      <td>cchpounder joeldavidmoore wesstudi jamescamero...</td>\n",
       "    </tr>\n",
       "    <tr>\n",
       "      <th>pirates of the caribbean: at world's end</th>\n",
       "      <td>johnnydepp orlandobloom jackdavenport goreverb...</td>\n",
       "    </tr>\n",
       "    <tr>\n",
       "      <th>spectre</th>\n",
       "      <td>christophwaltz rorykinnear stephaniesigman sam...</td>\n",
       "    </tr>\n",
       "  </tbody>\n",
       "</table>\n",
       "</div>"
      ],
      "text/plain": [
       "                                                                                       comb\n",
       "movie_title                                                                                \n",
       "avatar                                    cchpounder joeldavidmoore wesstudi jamescamero...\n",
       "pirates of the caribbean: at world's end  johnnydepp orlandobloom jackdavenport goreverb...\n",
       "spectre                                   christophwaltz rorykinnear stephaniesigman sam..."
      ]
     },
     "execution_count": 23,
     "metadata": {},
     "output_type": "execute_result"
    }
   ],
   "source": [
    "data=data[[\"comb\"]]\n",
    "# lowercasing all the words\n",
    "data[\"comb\"]=data[\"comb\"].str.lower()\n",
    "data.head(3)"
   ]
  },
  {
   "cell_type": "code",
   "execution_count": 22,
   "id": "bac25462",
   "metadata": {},
   "outputs": [
    {
     "data": {
      "text/plain": [
       "1    pirates of the caribbean: at world's end\n",
       "2                                     spectre\n",
       "3                       the dark knight rises\n",
       "Name: movie_title, dtype: object"
      ]
     },
     "execution_count": 22,
     "metadata": {},
     "output_type": "execute_result"
    }
   ],
   "source": [
    "# creating index for movie title\n",
    "indices=pd.Series(data.index)\n",
    "indices[1:4]"
   ]
  },
  {
   "cell_type": "code",
   "execution_count": 26,
   "id": "b6ba439b",
   "metadata": {},
   "outputs": [
    {
     "data": {
      "text/plain": [
       "(6118, 6118)"
      ]
     },
     "execution_count": 26,
     "metadata": {},
     "output_type": "execute_result"
    }
   ],
   "source": [
    "# instantiating and generating count matrix\n",
    "count=CountVectorizer()\n",
    "count_matrix=count.fit_transform(data[\"comb\"])\n",
    "cosine_sim=cosine_similarity(count_matrix,count_matrix)\n",
    "cosine_sim.shape"
   ]
  },
  {
   "cell_type": "code",
   "execution_count": 33,
   "id": "aa46dfa2",
   "metadata": {},
   "outputs": [],
   "source": [
    "def recom(title,cosine_sim=cosine_sim):\n",
    "    recom_list=[]\n",
    "    idx=indices[indices==title].index[0]\n",
    "    score=pd.Series(cosine_sim[idx]).sort_values(ascending=False)\n",
    "    top_10=score.iloc[1:11].index\n",
    "    for i in top_10:\n",
    "        recom_list.append(list((data.index))[i])\n",
    "    return recom_list\n",
    "    "
   ]
  },
  {
   "cell_type": "code",
   "execution_count": 34,
   "id": "8094a49a",
   "metadata": {},
   "outputs": [
    {
     "data": {
      "text/plain": [
       "['aliens',\n",
       " 'deep rising',\n",
       " 'highlander: endgame',\n",
       " 'the league of extraordinary gentlemen',\n",
       " 'star wars: episode vi - return of the jedi',\n",
       " 'man of steel',\n",
       " 'the amazing spider-man 2',\n",
       " 'mystery men',\n",
       " 'star wars: episode i - the phantom menace',\n",
       " 'star wars: episode ii - attack of the clones']"
      ]
     },
     "execution_count": 34,
     "metadata": {},
     "output_type": "execute_result"
    }
   ],
   "source": [
    "recom(\"avatar\")"
   ]
  },
  {
   "cell_type": "code",
   "execution_count": null,
   "id": "f295c387",
   "metadata": {},
   "outputs": [],
   "source": []
  }
 ],
 "metadata": {
  "kernelspec": {
   "display_name": "Python 3",
   "language": "python",
   "name": "python3"
  },
  "language_info": {
   "codemirror_mode": {
    "name": "ipython",
    "version": 3
   },
   "file_extension": ".py",
   "mimetype": "text/x-python",
   "name": "python",
   "nbconvert_exporter": "python",
   "pygments_lexer": "ipython3",
   "version": "3.8.6"
  }
 },
 "nbformat": 4,
 "nbformat_minor": 5
}
